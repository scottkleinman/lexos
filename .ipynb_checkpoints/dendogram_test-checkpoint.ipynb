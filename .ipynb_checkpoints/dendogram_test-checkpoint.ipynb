{
 "cells": [
  {
   "cell_type": "markdown",
   "id": "13eb0543-86b4-40a3-93fc-969242b79349",
   "metadata": {},
   "source": [
    "# Lexos Dendograms\n",
    "\n",
    "This script does the following:\n",
    "\n",
    "1. Creates spaCy docs from a list of text files.\n",
    "2. Converts the tokens to lower case and filters them to remove digits, punctuation, and whitespace.\n",
    "3. Tests that the loader is working properly.\n",
    "4. Store data in a document term matrix.\n",
    "5. Generates a dendogram from the dtm."
   ]
  },
  {
   "cell_type": "markdown",
   "id": "f04bf0c8-bb4c-4cd7-aca5-4e30dd94c522",
   "metadata": {},
   "source": [
    "## Configuration\n",
    "\n",
    "Configure a list of file paths, the labels you wish to use for each document, and the language model you wish to use to parse the texts.\n",
    "\n",
    "Note that converting long texts to spaCy docs can take a long time."
   ]
  },
  {
   "cell_type": "code",
   "execution_count": 4,
   "id": "1d6c0ea8-f075-4cd5-81a5-61402b5f4591",
   "metadata": {},
   "outputs": [],
   "source": [
    "# Replace with your own data\n",
    "data = [\n",
    "    r\"C:\\Users\\jack\\OneDrive\\Documents\\School\\summer22\\LexosRepo\\lexos\\tests\\test_data\\txt\\Austen_Pride.txt\",\n",
    "    r\"C:\\Users\\jack\\OneDrive\\Documents\\School\\summer22\\LexosRepo\\lexos\\tests\\test_data\\txt\\Austen_Pride.txt\"\n",
    "]\n",
    "labels = [\"Pride\", \"Sense\"]\n",
    "model = \"en_core_web_sm\""
   ]
  },
  {
   "cell_type": "markdown",
   "id": "abcb3b32-adca-49ee-88b0-0d907c29de90",
   "metadata": {},
   "source": [
    "## Import Lexos API"
   ]
  },
  {
   "cell_type": "code",
   "execution_count": 5,
   "id": "15a065ff-e19c-4b1c-acda-e0b2222b54fe",
   "metadata": {},
   "outputs": [
    {
     "name": "stdout",
     "output_type": "stream",
     "text": [
      "C:\\Users\\jack\\OneDrive\\Documents\\School\\summer22\\LexosRepo\\lexos\\lexos\n"
     ]
    }
   ],
   "source": [
    "# Set local import path\n",
    "import os\n",
    "import sys\n",
    "LEXOS_PATH = \"lexos\"\n",
    "if \"NOTEBOOK_INITIATED_FLAG\" not in globals():\n",
    "    NOTEBOOK_INITIATED_FLAG = True\n",
    "    try:\n",
    "        module_path = os.path.join(os.path.dirname(__file__), os.pardir)\n",
    "    except:\n",
    "        module_path = os.path.abspath(os.path.join(LEXOS_PATH))\n",
    "        %cd lexos\n",
    "        %pwd\n",
    "    if module_path not in sys.path:\n",
    "        sys.path.append(module_path)\n",
    "        \n",
    "# Import Lexos API modules\n",
    "from lexos.io.basic import Loader\n",
    "from lexos import tokenizer\n",
    "from lexos.dtm import DTM\n",
    "try:\n",
    "    from lexos.cluster.dendrogram import Dendrogram\n",
    "except ImportError:\n",
    "    print(\"Dendogram not imported.\")"
   ]
  },
  {
   "cell_type": "markdown",
   "id": "7bfb3bfd-0393-451d-82d5-e98a4ade28c6",
   "metadata": {},
   "source": [
    "## Load Texts and Convert to spaCy Docs"
   ]
  },
  {
   "cell_type": "code",
   "execution_count": 6,
   "id": "f47e8055-22b9-4f83-bc0a-ece1d20c58a4",
   "metadata": {},
   "outputs": [],
   "source": [
    "# Create the loader and load the data\n",
    "loader = Loader()\n",
    "loader.load(data)\n",
    "\n",
    "# Make the docs -- currently takes a long time with full novels\n",
    "docs = tokenizer.make_docs(loader.texts, model=model)"
   ]
  },
  {
   "cell_type": "markdown",
   "id": "17a5a284-dd21-42f9-bc0b-db4e5c1191d4",
   "metadata": {},
   "source": [
    "## Ensure Loader is working correctly"
   ]
  },
  {
   "cell_type": "code",
   "execution_count": 7,
   "id": "8bccfbfd-e43d-407d-92bc-ed1293573ad1",
   "metadata": {},
   "outputs": [
    {
     "name": "stdout",
     "output_type": "stream",
     "text": [
      " Pride and Prejudice\n",
      "by Jane Austen\n",
      "Chapter 1\n",
      "It is a truth universally acknowledged, that a single man in possession of a good fortune, must be in want of a wife.\n",
      "However little known the feelings or views of such a man\n",
      "\n",
      "\n",
      " Pride and Prejudice\n",
      "by Jane Austen\n",
      "Chapter 1\n",
      "It is a truth universally acknowledged, that a single man in possession of a good fortune, must be in want of a wife.\n",
      "However little known the feelings or views of such a man\n",
      "\n",
      "\n"
     ]
    }
   ],
   "source": [
    "for i, text in enumerate(docs):\n",
    "    print(text[0:50])\n",
    "    print(\"\\n\")"
   ]
  },
  {
   "cell_type": "markdown",
   "id": "c2907daf-db84-4c42-99c7-2aec9b564976",
   "metadata": {},
   "source": [
    "## Cut texts"
   ]
  },
  {
   "cell_type": "code",
   "execution_count": 18,
   "id": "42af011c-2801-4b66-a5ee-050a3675dc3e",
   "metadata": {},
   "outputs": [
    {
     "ename": "NameError",
     "evalue": "name '__init__' is not defined",
     "output_type": "error",
     "traceback": [
      "\u001b[1;31m---------------------------------------------------------------------------\u001b[0m",
      "\u001b[1;31mNameError\u001b[0m                                 Traceback (most recent call last)",
      "Input \u001b[1;32mIn [19]\u001b[0m, in \u001b[0;36m<cell line: 3>\u001b[1;34m()\u001b[0m\n\u001b[0;32m      1\u001b[0m \u001b[38;5;28;01mimport\u001b[39;00m \u001b[38;5;21;01mlexos\u001b[39;00m\u001b[38;5;21;01m.\u001b[39;00m\u001b[38;5;21;01mcutter\u001b[39;00m\n\u001b[1;32m----> 3\u001b[0m \u001b[38;5;21;43m__init__\u001b[39;49m(\u001b[38;5;28mself\u001b[39m, config\u001b[38;5;241m=\u001b[39m\u001b[38;5;28;01mNone\u001b[39;00m)\n\u001b[0;32m      4\u001b[0m result \u001b[38;5;241m=\u001b[39m lexos\u001b[38;5;241m.\u001b[39mcutter\u001b[38;5;241m.\u001b[39mGinsu\u001b[38;5;241m.\u001b[39msplit(\u001b[38;5;28mself\u001b[39m, docs, n \u001b[38;5;241m=\u001b[39m \u001b[38;5;241m3\u001b[39m)\n",
      "\u001b[1;31mNameError\u001b[0m: name '__init__' is not defined"
     ]
    }
   ],
   "source": [
    "import lexos.cutter\n",
    "\n",
    "result = lexos.cutter.Ginsu.split(self, docs, n = 3)"
   ]
  },
  {
   "cell_type": "markdown",
   "id": "7dfa1e23-2477-421e-9051-f9d6c9360582",
   "metadata": {},
   "source": [
    "## Initiate DTM"
   ]
  },
  {
   "cell_type": "code",
   "execution_count": 9,
   "id": "363d00a4-6aae-4e45-af19-dd2cc2ff832a",
   "metadata": {},
   "outputs": [],
   "source": [
    "from lexos.dtm import DTM\n",
    "labels = [\"Pride_and_Prejudice\", \"Sense_and_Sensibility\"]\n",
    "dtm = DTM(docs, labels)"
   ]
  },
  {
   "cell_type": "markdown",
   "id": "8b62f4d8-131f-4052-a5c0-e44d84486fb8",
   "metadata": {},
   "source": [
    "## Create Dendogram"
   ]
  },
  {
   "cell_type": "code",
   "execution_count": 11,
   "id": "aa3233b1-0782-4807-939d-d5845178899f",
   "metadata": {},
   "outputs": [
    {
     "data": {
      "image/png": "[encoded data removed]",
      "text/plain": [
       "<Figure size 720x720 with 1 Axes>"
      ]
     },
     "metadata": {
      "needs_background": "light"
     },
     "output_type": "display_data"
    }
   ],
   "source": [
    "dendrogram = Dendrogram(dtm, show=True)"
   ]
  },
  {
   "cell_type": "code",
   "execution_count": null,
   "id": "52e865e9-ca95-48d5-8399-726aa7ca28e9",
   "metadata": {},
   "outputs": [],
   "source": []
  }
 ],
 "metadata": {
  "kernelspec": {
   "display_name": "Python 3 (ipykernel)",
   "language": "python",
   "name": "python3"
  },
  "language_info": {
   "codemirror_mode": {
    "name": "ipython",
    "version": 3
   },
   "file_extension": ".py",
   "mimetype": "text/x-python",
   "name": "python",
   "nbconvert_exporter": "python",
   "pygments_lexer": "ipython3",
   "version": "3.9.12"
  }
 },
 "nbformat": 4,
 "nbformat_minor": 5
}
