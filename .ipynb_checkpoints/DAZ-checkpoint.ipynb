{
 "cells": [
  {
   "cell_type": "markdown",
   "id": "13eb0543-86b4-40a3-93fc-969242b79349",
   "metadata": {},
   "source": [
    "# DAZ\n",
    "\n",
    "This script does the following:\n",
    "\n",
    "1. Creates spaCy docs from a list of text files.\n",
    "2. Converts the tokens to lower case and filters them to remove digits, punctuation, and whitespace.\n",
    "3. Tests that the loader is working properly.\n",
    "4. Cuts texts.\n",
    "5. Store data in a document term matrix.\n",
    "6. Generates a dendogram from the dtm."
   ]
  },
  {
   "cell_type": "markdown",
   "id": "f04bf0c8-bb4c-4cd7-aca5-4e30dd94c522",
   "metadata": {},
   "source": [
    "## Configuration\n",
    "\n",
    "Configure a list of file paths, the labels you wish to use for each document, and the language model you wish to use to parse the texts.\n",
    "\n",
    "Note that converting long texts to spaCy docs can take a long time."
   ]
  },
  {
   "cell_type": "code",
   "execution_count": 1,
   "id": "1d6c0ea8-f075-4cd5-81a5-61402b5f4591",
   "metadata": {},
   "outputs": [],
   "source": [
    "# Replace with your own data\n",
    "data = [\n",
    "    #r\"C:\\Users\\jack\\OneDrive\\Documents\\School\\summer22\\LexosRepo\\lexos\\tests\\test_data\\txt\\Dan.txt\",\n",
    "    #r\"C:\\Users\\jack\\OneDrive\\Documents\\School\\summer22\\LexosRepo\\lexos\\tests\\test_data\\txt\\Azarias.txt\"\n",
    "    r\"C:\\Users\\jack\\OneDrive\\Documents\\School\\summer22\\LexosRepo\\lexos\\tests\\test_data\\txt\\DTMtest.txt\"\n",
    "]\n",
    "\n",
    "model = \"en_core_web_sm\""
   ]
  },
  {
   "cell_type": "markdown",
   "id": "abcb3b32-adca-49ee-88b0-0d907c29de90",
   "metadata": {},
   "source": [
    "## Import Lexos API"
   ]
  },
  {
   "cell_type": "code",
   "execution_count": 2,
   "id": "15a065ff-e19c-4b1c-acda-e0b2222b54fe",
   "metadata": {},
   "outputs": [
    {
     "name": "stdout",
     "output_type": "stream",
     "text": [
      "C:\\Users\\jack\\OneDrive\\Documents\\School\\summer22\\LexosRepo\\lexos\\lexos\n"
     ]
    }
   ],
   "source": [
    "# Set local import path\n",
    "import os\n",
    "import sys\n",
    "LEXOS_PATH = \"lexos\"\n",
    "if \"NOTEBOOK_INITIATED_FLAG\" not in globals():\n",
    "    NOTEBOOK_INITIATED_FLAG = True\n",
    "    try:\n",
    "        module_path = os.path.join(os.path.dirname(__file__), os.pardir)\n",
    "    except:\n",
    "        module_path = os.path.abspath(os.path.join(LEXOS_PATH))\n",
    "        %cd lexos\n",
    "        %pwd\n",
    "    if module_path not in sys.path:\n",
    "        sys.path.append(module_path)\n",
    "        \n",
    "# Import Lexos API modules\n",
    "from lexos.io.basic import Loader\n",
    "from lexos import tokenizer\n",
    "from lexos.dtm import DTM\n",
    "from lexos.cutter import Ginsu\n",
    "try:\n",
    "    from lexos.cluster.dendrogram import Dendrogram\n",
    "except ImportError:\n",
    "    print(\"Dendogram not imported.\")"
   ]
  },
  {
   "cell_type": "markdown",
   "id": "7bfb3bfd-0393-451d-82d5-e98a4ade28c6",
   "metadata": {},
   "source": [
    "## Load Texts and Convert to spaCy Docs"
   ]
  },
  {
   "cell_type": "code",
   "execution_count": 3,
   "id": "f47e8055-22b9-4f83-bc0a-ece1d20c58a4",
   "metadata": {},
   "outputs": [],
   "source": [
    "# Create the loader and load the data\n",
    "#loader = Loader()\n",
    "#loader.load(data[0])\n",
    "\n",
    "# Make the docs -- currently takes a long time with full novels\n",
    "#doc1 = tokenizer.make_docs(loader.texts, model=model)\n",
    "\n",
    "loader = Loader()\n",
    "loader.load(data)\n",
    "#loader.load(data[1])\n",
    "doc2 = tokenizer.make_doc(loader.texts[0], model=model)"
   ]
  },
  {
   "cell_type": "code",
   "execution_count": 4,
   "id": "7524b397-194b-4a98-987e-324081eb4857",
   "metadata": {},
   "outputs": [
    {
     "name": "stdout",
     "output_type": "stream",
     "text": [
      "one two three one two three two one\n",
      "foo bar five six foo foo foo bar\n"
     ]
    }
   ],
   "source": [
    "print (doc2)"
   ]
  },
  {
   "cell_type": "code",
   "execution_count": 6,
   "id": "ac228321-9ac9-4929-a935-c76ce59d2e0a",
   "metadata": {},
   "outputs": [
    {
     "name": "stdout",
     "output_type": "stream",
     "text": [
      "  (0, 0)\t1\n",
      "  (0, 1)\t1\n",
      "  (0, 2)\t1\n",
      "  (0, 3)\t1\n",
      "  (0, 4)\t1\n",
      "  (0, 5)\t1\n",
      "  (0, 6)\t1\n",
      "  (0, 7)\t1\n",
      "  (0, 8)\t1\n",
      "  (0, 9)\t1\n",
      "  (0, 10)\t1\n",
      "  (0, 11)\t1\n",
      "  (0, 12)\t1\n",
      "  (0, 13)\t1\n",
      "  (0, 14)\t1\n",
      "  (0, 15)\t1\n",
      "  (0, 16)\t1\n"
     ]
    }
   ],
   "source": [
    "from lexos.dtm import DTM\n",
    "label = [\"test\"]\n",
    "dtm = DTM([doc2], label)\n",
    "dtm.build()"
   ]
  },
  {
   "cell_type": "code",
   "execution_count": null,
   "id": "a290324c-b4ef-4708-9a85-cb57d6adf674",
   "metadata": {},
   "outputs": [
    {
     "name": "stdout",
     "output_type": "stream",
     "text": [
      "Data Table: \n",
      "\n",
      "[one, two, three, one, two, three, two, one, \n",
      ", foo, bar, five, six, foo, foo, foo, bar]\n",
      "0\n",
      "[[1]]\n",
      "1\n",
      "[[1]]\n",
      "2\n",
      "[[1]]\n",
      "3\n",
      "[[1]]\n",
      "4\n",
      "[[1]]\n",
      "5\n",
      "[[1]]\n",
      "6\n",
      "[[1]]\n",
      "7\n",
      "[[1]]\n",
      "8\n",
      "[[1]]\n",
      "9\n",
      "[[1]]\n",
      "10\n",
      "[[1]]\n",
      "11\n",
      "[[1]]\n",
      "12\n",
      "[[1]]\n",
      "13\n",
      "[[1]]\n",
      "14\n",
      "[[1]]\n",
      "15\n",
      "[[1]]\n",
      "16\n",
      "[[1]]\n",
      "    terms  test\n",
      "0     one     1\n",
      "1     two     1\n",
      "2   three     1\n",
      "3     one     1\n",
      "4     two     1\n",
      "5   three     1\n",
      "6     two     1\n",
      "7     one     1\n",
      "8    \\r\\n     1\n",
      "9     foo     1\n",
      "10    bar     1\n",
      "11   five     1\n",
      "12    six     1\n",
      "13    foo     1\n",
      "14    foo     1\n",
      "15    foo     1\n",
      "16    bar     1\n",
      "\n",
      "Most Frequent Terms: \n",
      "\n",
      "    terms  test  sum\n",
      "0     one     1    1\n",
      "9     foo     1    1\n",
      "15    foo     1    1\n",
      "14    foo     1    1\n",
      "13    foo     1    1\n",
      "12    six     1    1\n",
      "11   five     1    1\n",
      "10    bar     1    1\n",
      "8    \\r\\n     1    1\n",
      "1     two     1    1\n",
      "7     one     1    1\n",
      "6     two     1    1\n",
      "5   three     1    1\n",
      "4     two     1    1\n",
      "3     one     1    1\n",
      "2   three     1    1\n",
      "16    bar     1    1\n"
     ]
    },
    {
     "name": "stderr",
     "output_type": "stream",
     "text": [
      "C:\\Users\\jack\\OneDrive\\Documents\\School\\summer22\\LexosRepo\\lexos\\lexos\\dtm\\__init__.py:105: FutureWarning: Dropping of nuisance columns in DataFrame reductions (with 'numeric_only=None') is deprecated; in a future version this will raise TypeError.  Select only valid columns before calling the reduction.\n",
      "  tmp[\"sum\"] = df.sum(axis=1)\n"
     ]
    }
   ],
   "source": [
    "print (\"Data Table: \\n\")\n",
    "df = dtm.get_table()\n",
    "print (df)\n",
    "\n",
    "print (\"\\nMost Frequent Terms: \\n\")\n",
    "most_frequent = dtm.most_frequent(max_n_terms=25)\n",
    "print (most_frequent)"
   ]
  },
  {
   "cell_type": "code",
   "execution_count": 24,
   "id": "d6324208-9eb3-4a47-820d-729793da17e4",
   "metadata": {},
   "outputs": [
    {
     "data": {
      "text/html": [
       "<div>\n",
       "<style scoped>\n",
       "    .dataframe tbody tr th:only-of-type {\n",
       "        vertical-align: middle;\n",
       "    }\n",
       "\n",
       "    .dataframe tbody tr th {\n",
       "        vertical-align: top;\n",
       "    }\n",
       "\n",
       "    .dataframe thead th {\n",
       "        text-align: right;\n",
       "    }\n",
       "</style>\n",
       "<table border=\"1\" class=\"dataframe\">\n",
       "  <thead>\n",
       "    <tr style=\"text-align: right;\">\n",
       "      <th></th>\n",
       "      <th>term</th>\n",
       "      <th>count</th>\n",
       "    </tr>\n",
       "  </thead>\n",
       "  <tbody>\n",
       "    <tr>\n",
       "      <th>0</th>\n",
       "      <td>foo</td>\n",
       "      <td>4</td>\n",
       "    </tr>\n",
       "    <tr>\n",
       "      <th>1</th>\n",
       "      <td>one</td>\n",
       "      <td>3</td>\n",
       "    </tr>\n",
       "    <tr>\n",
       "      <th>2</th>\n",
       "      <td>two</td>\n",
       "      <td>3</td>\n",
       "    </tr>\n",
       "    <tr>\n",
       "      <th>3</th>\n",
       "      <td>three</td>\n",
       "      <td>2</td>\n",
       "    </tr>\n",
       "    <tr>\n",
       "      <th>4</th>\n",
       "      <td>bar</td>\n",
       "      <td>2</td>\n",
       "    </tr>\n",
       "    <tr>\n",
       "      <th>5</th>\n",
       "      <td>\\r\\n</td>\n",
       "      <td>1</td>\n",
       "    </tr>\n",
       "    <tr>\n",
       "      <th>6</th>\n",
       "      <td>five</td>\n",
       "      <td>1</td>\n",
       "    </tr>\n",
       "    <tr>\n",
       "      <th>7</th>\n",
       "      <td>six</td>\n",
       "      <td>1</td>\n",
       "    </tr>\n",
       "  </tbody>\n",
       "</table>\n",
       "</div>"
      ],
      "text/plain": [
       "    term  count\n",
       "0    foo      4\n",
       "1    one      3\n",
       "2    two      3\n",
       "3  three      2\n",
       "4    bar      2\n",
       "5   \\r\\n      1\n",
       "6   five      1\n",
       "7    six      1"
      ]
     },
     "execution_count": 24,
     "metadata": {},
     "output_type": "execute_result"
    }
   ],
   "source": [
    "from lexos.dtm import get_doc_term_counts\n",
    "df = get_doc_term_counts([doc2], as_df=True)\n",
    "df"
   ]
  },
  {
   "cell_type": "markdown",
   "id": "17a5a284-dd21-42f9-bc0b-db4e5c1191d4",
   "metadata": {},
   "source": [
    "## Ensure Loader is working correctly"
   ]
  },
  {
   "cell_type": "code",
   "execution_count": 5,
   "id": "8bccfbfd-e43d-407d-92bc-ed1293573ad1",
   "metadata": {},
   "outputs": [
    {
     "name": "stdout",
     "output_type": "stream",
     "text": [
      " Gefr&ae;gn ic Hebreos eadge lifgean in Hierusalem\n",
      "\n",
      "\n",
      " Him &t;a Azarias inge&t;oncum hleo&t;rede halig &\n"
     ]
    }
   ],
   "source": [
    "for i, doc in enumerate(doc1):\n",
    "    print(doc.text[0:50])\n",
    "\n",
    "print (\"\\n\")\n",
    "\n",
    "print(doc2.text[0:50])"
   ]
  },
  {
   "cell_type": "markdown",
   "id": "c2907daf-db84-4c42-99c7-2aec9b564976",
   "metadata": {},
   "source": [
    "## Cut texts"
   ]
  },
  {
   "cell_type": "code",
   "execution_count": 6,
   "id": "42af011c-2801-4b66-a5ee-050a3675dc3e",
   "metadata": {},
   "outputs": [
    {
     "name": "stdout",
     "output_type": "stream",
     "text": [
      "11\n"
     ]
    }
   ],
   "source": [
    "from lexos.cutter import Ginsu\n",
    "cutter = Ginsu()\n",
    "\n",
    "doc1split = cutter.splitn(doc1, n=10)\n",
    "doc1split = doc1split[0]\n",
    "\n",
    "docs = doc1split\n",
    "docs.append(doc2)\n",
    "\n",
    "print (len(docs))"
   ]
  },
  {
   "cell_type": "code",
   "execution_count": 7,
   "id": "356c073d-4291-46a3-bf8b-575431aec0fb",
   "metadata": {},
   "outputs": [
    {
     "name": "stdout",
     "output_type": "stream",
     "text": [
      "0 -------------------------------------------\n",
      "\n",
      " Gefr&ae;gn ic Hebreos eadge lifgean in Hierusalem  goldhord d&ae;lan  cyningdom habban  swa him gecynde w&ae;s  si&d;&d;an &t;urh metodes m&ae;gen on\n",
      "1 -------------------------------------------\n",
      "\n",
      "sine gerefan geond Israela earme lafe  hwilc &t;&ae;re geogo&d;e gleawost w&ae;re boca bebodes  &t;e &t;&ae;r brungen w&ae;s. \n",
      " Wolde &t;&ae;t &t;a c\n",
      "2 -------------------------------------------\n",
      "\n",
      "reccan sinum frean  s&ae;gde him wislice wereda gesceafte  &t;&ae;tte sona ongeat swi&d;mod cyning ord and ende &t;&ae;s &t;e him ywed w&ae;s. \n",
      " &D;a\n",
      "3 -------------------------------------------\n",
      "\n",
      "t;eah &t;e hie swa grome nydde in f&ae;&d;m fyres lige  hw&ae;&d;ere heora feorh generede mihtig metodes weard. \n",
      " Swa &t;&ae;t m&ae;nige gefrunon  ha\n",
      "4 -------------------------------------------\n",
      "\n",
      "; is user lif geond landa fela fraco&d; and gefr&ae;ge folca manegum  &t;a <corr>usic</corr> bewr&ae;con to &t;&ae;s wyrrestan eor&d;cyninga &ae;hta g\n",
      "5 -------------------------------------------\n",
      "\n",
      " somod hat and ceald. \n",
      " And &t;ec  frea mihtig  forstas and snawas  winterbiter weder and wolcenfaru  lofige on lyfte. \n",
      " And &t;ec ligetu  blace  be\n",
      "6 -------------------------------------------\n",
      "\n",
      "t;a se br&ae;sna Babilone weard swi&d;mod sinum leodum  &t;&ae;t se w&ae;re his aldre scyldig  se &d;&ae;s onsoce &t;&ae;tte so&d; w&ae;re m&ae;re mih\n",
      "7 -------------------------------------------\n",
      "\n",
      "wealde&d; &t;onne he him wi&d; m&ae;ge. \n",
      " &T;a of sl&ae;pe onwoc  swefn w&ae;s &ae;t ende  eor&d;lic &ae;&d;eling  him &t;&ae;s egesa stod  gryre fra\n",
      "8 -------------------------------------------\n",
      "\n",
      "cr&ae;ft  &t;&ae;t &t;&ae;s a se rica reccan wolde  middangeardes weard  ac his mod astah  heah fram heortan; he &t;&ae;s hearde ongeald. \n",
      " Ongan &d;\n",
      "9 -------------------------------------------\n",
      "\n",
      "Persum aldordomes <corr>ymb</corr> lytel f&ae;c  let Babilone bl&ae;d swi&d;rian  &t;one &t;a h&ae;le&d; healdan sceoldon. \n",
      " Wiste he ealdormen in un\n",
      "10 -------------------------------------------\n",
      "\n",
      " Him &t;a Azarias inge&t;oncum hleo&t;rede halig &t;urh hatne lig  dreag d&ae;dum georn  dryhten herede  wis in weorcum  ond &t;as word acw&ae;&d;: Me\n"
     ]
    }
   ],
   "source": [
    "for i, adoc in enumerate(docs):\n",
    "    print(i,\"-------------------------------------------\\n\")\n",
    "    print(adoc.text[0:150])\n",
    "    "
   ]
  },
  {
   "cell_type": "markdown",
   "id": "7dfa1e23-2477-421e-9051-f9d6c9360582",
   "metadata": {},
   "source": [
    "## Initiate DTM"
   ]
  },
  {
   "cell_type": "code",
   "execution_count": 8,
   "id": "363d00a4-6aae-4e45-af19-dd2cc2ff832a",
   "metadata": {},
   "outputs": [],
   "source": [
    "from lexos.dtm import DTM\n",
    "labels = [\"Dan1\", \"Dan2\", \"Dan3\", \"Dan4\", \"Dan5\", \"Dan6\", \"Dan7\", \"Dan8\", \"Dan9\", \"Dan10\", \"Az\"]\n",
    "dtm = DTM(docs, labels)"
   ]
  },
  {
   "cell_type": "markdown",
   "id": "11c07f21-7ad0-49b7-9588-56f722e7de44",
   "metadata": {},
   "source": [
    "## Examine DTM"
   ]
  },
  {
   "cell_type": "code",
   "execution_count": 9,
   "id": "01dcb18b-fcf5-4a67-ac2f-3dad7d091d59",
   "metadata": {},
   "outputs": [
    {
     "name": "stdout",
     "output_type": "stream",
     "text": [
      "Data Table: \n",
      "\n",
      "             terms  Dan1  Dan2  Dan3  Dan4  Dan5  Dan6  Dan7  Dan8  Dan9  \\\n",
      "0                      1     0     0     0     0     0     0     0     0   \n",
      "1             sine     0     1     0     0     0     0     0     0     0   \n",
      "2           reccan     0     0     1     0     0     0     0     0     0   \n",
      "3            t;eah     0     0     0     1     0     0     0     0     0   \n",
      "4                ;     0     0     0     0     1     0     0     0     0   \n",
      "...            ...   ...   ...   ...   ...   ...   ...   ...   ...   ...   \n",
      "8318         t;urh     0     0     0     0     0     0     0     0     0   \n",
      "8319  fore&t;oncas     0     0     0     0     0     0     0     0     0   \n",
      "8320           fyr     0     0     0     0     0     0     0     0     0   \n",
      "8321      gedygdon     0     0     0     0     0     0     0     0     0   \n",
      "8322             .     0     0     0     0     0     0     0     0     0   \n",
      "\n",
      "      Dan10  Az  \n",
      "0         0   0  \n",
      "1         0   0  \n",
      "2         0   0  \n",
      "3         0   0  \n",
      "4         0   0  \n",
      "...     ...  ..  \n",
      "8318      0   1  \n",
      "8319      0   1  \n",
      "8320      0   1  \n",
      "8321      0   1  \n",
      "8322      0   1  \n",
      "\n",
      "[8323 rows x 12 columns]\n",
      "\n",
      "Most Frequent Terms: \n",
      "\n",
      "            terms  Dan1  Dan2  Dan3  Dan4  Dan5  Dan6  Dan7  Dan8  Dan9  \\\n",
      "0                     1     0     0     0     0     0     0     0     0   \n",
      "5559           to     0     0     1     0     0     0     0     0     0   \n",
      "5557            &     0     0     0     0     0     1     0     0     0   \n",
      "5556          cyn     1     0     0     0     0     0     0     0     0   \n",
      "5555      dropena     0     0     0     0     0     0     0     0     0   \n",
      "5554            >     0     0     0     1     0     0     0     0     0   \n",
      "5553            ;     0     0     0     0     0     0     0     0     0   \n",
      "5552        gleaw     0     0     0     0     0     0     0     0     0   \n",
      "5551  godspellode     0     0     0     0     0     0     0     0     1   \n",
      "5550                  0     0     0     0     0     0     0     0     0   \n",
      "5549      sceatas     0     0     0     0     0     0     1     0     0   \n",
      "5548        bearn     0     0     0     0     1     0     0     0     0   \n",
      "5547        guman     0     0     1     0     0     0     0     0     0   \n",
      "5546     fur&d;or     0     1     0     0     0     0     0     0     0   \n",
      "5545                  0     0     1     0     0     0     0     0     0   \n",
      "5544      roderum     0     0     0     0     0     0     0     1     0   \n",
      "5543           ic     0     1     0     0     0     0     0     0     0   \n",
      "5542           on     0     0     0     0     0     0     0     1     0   \n",
      "5541       foldan     0     0     0     0     0     0     1     0     0   \n",
      "5540   forburnene     0     0     0     0     0     1     0     0     0   \n",
      "5539   ealdfeonda     1     0     0     0     0     0     0     0     0   \n",
      "5538     ofstlice     0     0     0     0     0     0     0     0     1   \n",
      "5537  dreag</corr     0     0     0     1     0     0     0     0     0   \n",
      "5536        Ebrea     0     0     1     0     0     0     0     0     0   \n",
      "5535   weor&t;e&d     0     0     0     0     0     0     0     0     0   \n",
      "\n",
      "      Dan10  Az  sum  \n",
      "0         0   0    1  \n",
      "5559      0   0    1  \n",
      "5557      0   0    1  \n",
      "5556      0   0    1  \n",
      "5555      0   1    1  \n",
      "5554      0   0    1  \n",
      "5553      0   1    1  \n",
      "5552      1   0    1  \n",
      "5551      0   0    1  \n",
      "5550      1   0    1  \n",
      "5549      0   0    1  \n",
      "5548      0   0    1  \n",
      "5547      0   0    1  \n",
      "5546      0   0    1  \n",
      "5545      0   0    1  \n",
      "5544      0   0    1  \n",
      "5543      0   0    1  \n",
      "5542      0   0    1  \n",
      "5541      0   0    1  \n",
      "5540      0   0    1  \n",
      "5539      0   0    1  \n",
      "5538      0   0    1  \n",
      "5537      0   0    1  \n",
      "5536      0   0    1  \n",
      "5535      0   1    1  \n"
     ]
    },
    {
     "name": "stderr",
     "output_type": "stream",
     "text": [
      "C:\\Users\\jack\\OneDrive\\Documents\\School\\summer22\\LexosRepo\\lexos\\lexos\\dtm\\__init__.py:93: FutureWarning: Dropping of nuisance columns in DataFrame reductions (with 'numeric_only=None') is deprecated; in a future version this will raise TypeError.  Select only valid columns before calling the reduction.\n",
      "  tmp[\"sum\"] = df.sum(axis=1)\n"
     ]
    }
   ],
   "source": [
    "print (\"Data Table: \\n\")\n",
    "df = dtm.get_table()\n",
    "print (df)\n",
    "\n",
    "print (\"\\nMost Frequent Terms: \\n\")\n",
    "most_frequent = dtm.most_frequent(max_n_terms=25)\n",
    "print (most_frequent)"
   ]
  },
  {
   "cell_type": "markdown",
   "id": "8b62f4d8-131f-4052-a5c0-e44d84486fb8",
   "metadata": {},
   "source": [
    "## Create Dendogram"
   ]
  },
  {
   "cell_type": "code",
   "execution_count": 19,
   "id": "aa3233b1-0782-4807-939d-d5845178899f",
   "metadata": {},
   "outputs": [
    {
     "data": {
      "image/png": "[encoded data removed]",
      "text/plain": [
       "<Figure size 720x720 with 1 Axes>"
      ]
     },
     "metadata": {
      "needs_background": "light"
     },
     "output_type": "display_data"
    }
   ],
   "source": [
    "dendrogram = Dendrogram(dtm, show=True)"
   ]
  },
  {
   "cell_type": "code",
   "execution_count": null,
   "id": "063e7be6-e9dd-47e8-aa98-4a98c7b3adf5",
   "metadata": {},
   "outputs": [],
   "source": []
  }
 ],
 "metadata": {
  "interpreter": {
   "hash": "2aa7953f390f28e7e50d668f5dd71a50654ba94f4b9e6876e74ed7ed7caa2611"
  },
  "kernelspec": {
   "display_name": "Python 3 (ipykernel)",
   "language": "python",
   "name": "python3"
  },
  "language_info": {
   "codemirror_mode": {
    "name": "ipython",
    "version": 3
   },
   "file_extension": ".py",
   "mimetype": "text/x-python",
   "name": "python",
   "nbconvert_exporter": "python",
   "pygments_lexer": "ipython3",
   "version": "3.9.12"
  }
 },
 "nbformat": 4,
 "nbformat_minor": 5
}
