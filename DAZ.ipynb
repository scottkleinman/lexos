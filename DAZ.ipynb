{
 "cells": [
  {
   "cell_type": "markdown",
   "id": "13eb0543-86b4-40a3-93fc-969242b79349",
   "metadata": {},
   "source": [
    "# DAZ\n",
    "\n",
    "This script does the following:\n",
    "\n",
    "1. Creates spaCy docs from a list of text files.\n",
    "2. Converts the tokens to lower case and filters them to remove digits, punctuation, and whitespace.\n",
    "3. Tests that the loader is working properly.\n",
    "4. Cuts texts.\n",
    "5. Store data in a document term matrix.\n",
    "6. Generates a dendogram from the dtm."
   ]
  },
  {
   "cell_type": "markdown",
   "id": "f04bf0c8-bb4c-4cd7-aca5-4e30dd94c522",
   "metadata": {},
   "source": [
    "## Configuration\n",
    "\n",
    "Configure a list of file paths, the labels you wish to use for each document, and the language model you wish to use to parse the texts.\n",
    "\n",
    "Note that converting long texts to spaCy docs can take a long time."
   ]
  },
  {
   "cell_type": "code",
   "execution_count": 1,
   "id": "1d6c0ea8-f075-4cd5-81a5-61402b5f4591",
   "metadata": {},
   "outputs": [],
   "source": [
    "# Replace with your own data\n",
    "data = [\n",
    "    r\"C:\\Users\\jack\\OneDrive\\Documents\\School\\summer22\\LexosRepo\\lexos\\tests\\test_data\\txt\\Dan.txt\",\n",
    "    r\"C:\\Users\\jack\\OneDrive\\Documents\\School\\summer22\\LexosRepo\\lexos\\tests\\test_data\\txt\\Azarias.txt\"\n",
    "    #r\"C:\\Users\\jack\\OneDrive\\Documents\\School\\summer22\\LexosRepo\\lexos\\tests\\test_data\\txt\\DTMtest.txt\"\n",
    "]\n",
    "\n",
    "model = \"en_core_web_sm\""
   ]
  },
  {
   "cell_type": "markdown",
   "id": "abcb3b32-adca-49ee-88b0-0d907c29de90",
   "metadata": {},
   "source": [
    "## Import Lexos API"
   ]
  },
  {
   "cell_type": "code",
   "execution_count": 2,
   "id": "15a065ff-e19c-4b1c-acda-e0b2222b54fe",
   "metadata": {},
   "outputs": [
    {
     "name": "stdout",
     "output_type": "stream",
     "text": [
      "C:\\Users\\jack\\OneDrive\\Documents\\School\\summer22\\LexosRepo\\lexos\\lexos\n"
     ]
    }
   ],
   "source": [
    "# Set local import path\n",
    "import os\n",
    "import sys\n",
    "LEXOS_PATH = \"lexos\"\n",
    "if \"NOTEBOOK_INITIATED_FLAG\" not in globals():\n",
    "    NOTEBOOK_INITIATED_FLAG = True\n",
    "    try:\n",
    "        module_path = os.path.join(os.path.dirname(__file__), os.pardir)\n",
    "    except:\n",
    "        module_path = os.path.abspath(os.path.join(LEXOS_PATH))\n",
    "        %cd lexos\n",
    "        %pwd\n",
    "    if module_path not in sys.path:\n",
    "        sys.path.append(module_path)\n",
    "        \n",
    "# Import Lexos API modules\n",
    "from lexos.io.basic import Loader\n",
    "from lexos import tokenizer\n",
    "from lexos.dtm import DTM\n",
    "from lexos.cutter import Ginsu\n",
    "try:\n",
    "    from lexos.cluster.dendrogram import Dendrogram\n",
    "except ImportError:\n",
    "    print(\"Dendogram not imported.\")"
   ]
  },
  {
   "cell_type": "markdown",
   "id": "7bfb3bfd-0393-451d-82d5-e98a4ade28c6",
   "metadata": {},
   "source": [
    "## Load Texts and Convert to spaCy Docs"
   ]
  },
  {
   "cell_type": "code",
   "execution_count": 3,
   "id": "f47e8055-22b9-4f83-bc0a-ece1d20c58a4",
   "metadata": {},
   "outputs": [],
   "source": [
    "# Create the loader and load the data\n",
    "loader = Loader()\n",
    "loader.load(data[0])\n",
    "\n",
    "# Make the docs -- currently takes a long time with full novels\n",
    "doc1 = tokenizer.make_docs(loader.texts, model=model)\n",
    "\n",
    "loader = Loader()\n",
    "#loader.load(data)\n",
    "loader.load(data[1])\n",
    "doc2 = tokenizer.make_doc(loader.texts[0], model=model)"
   ]
  },
  {
   "cell_type": "code",
   "execution_count": 4,
   "id": "7524b397-194b-4a98-987e-324081eb4857",
   "metadata": {},
   "outputs": [
    {
     "name": "stdout",
     "output_type": "stream",
     "text": [
      " Him &t;a Azarias inge&t;oncum hleo&t;rede halig &t;urh hatne lig  dreag d&ae;dum georn  dryhten herede  wis in weorcum  ond &t;as word acw&ae;&d;: Meotud allwihta  &t;u eart meahtum swi&d; ni&t;as to nerganne. \n",
      " Is &t;in noma m&ae;re  wlitig ond wuldorf&ae;st ofer wer&t;eode. \n",
      " Sindon &t;ine domas on d&ae;da gehwam so&d;e geswi&d;de ond gesigef&ae;ste  eac <corr>&t;ine</corr> willan in woruldspedum ryhte mid r&ae;de. \n",
      " Rodera waldend  geoca us georne  g&ae;sta scyppend  ond &t;urh hyldo help  halig dryhten  nu we &t;ec for &t;earfum ond for &t;reanydum ond fore ea&d;medum arena bidda&t;  lege bilegde. \n",
      " We &t;&ae;s lifgende worhton in worulde  eac &t;on wom dydon yldran usse  in oferhygdum &t;in bibodu br&ae;con burgsittende  had oferhogedon halgan lifes. \n",
      " Wurdon we towrecene geond widne grund  heapum tohworfne  hylda lease; w&ae;s ure lif geond londa fela fracu&d; ond gefr&ae;ge foldbuendum. \n",
      " Nu &t;u usic bewr&ae;ce in &t;as wyrrestan eor&d;cyninges &ae;htgewealda  in h&ae;ft heorogrimmes  sceolon we &t;&ae;r h&ae;&t;enra &t;reanyd <corr>h&ae;fdes</corr> to Abrahame ond to Isace ond Iacobe  g&ae;sta scyppend. \n",
      " &T;u him gehete &t;urh hleo&t;orcwidas &t;&ae;t &t;u hyra fromcynn on fyrndagum ycan wolde  &t;&ae;t hit &ae;fter him on cyneryce cenned wurde  yced on eor&t;an  &t;&ae;t swa unrime  had to hebban  swa heofonsteorran buga&d; bradne hwearft o&d; brimflodas  swa waro&t;a sond ymb sealt w&ae;ter  y&t;e geond eargrund  &t;&ae;t swa unrime ymb wintra hwearft weor&d;an sceolde. \n",
      " Fyl nu &t;a frumspr&ae;ce  &t;eah &t;e user fea lifgen  wlitega &t;ine wordcwidas ond &d;in wuldor us. \n",
      " Gecy&d; cr&ae;ft ond meaht  nu &t;ec Caldeas ond eac fela folca gefregen habban &t;&ae;t &t;u ana eart ece dryhten  sigerof settend ond so&d; meotod  wuldres waldend ond woruldsceafta. \n",
      " Swa se halga wer hergende w&ae;s meotudes miltse  ond his modsefan rehte &t;urh reorde. \n",
      " &D;a of roderum wear&d; engel &ae;lbeorhta ufon onsended  wlitescyne wer in his wuldorhoman  cwom him &t;a to are ond to ealdornere &t;urh lufan ond &t;urh lisse. \n",
      " Se &t;one lig tosceaf  halig ond heofonbeorht  hatan fyres  &t;&ae;t se bittra bryne beorgan sceolde for &t;&ae;s engles ege &ae;f&ae;stum &t;rim. \n",
      " Tosweop ond toswengde &t;urh swi&d;es meaht liges leoman  swa hyra lice ne scod  ac w&ae;s in &t;am <corr>ofne</corr>  &t;a se engel cwom  windig ond wynsum  wedere onlicust  &t;onne on sumeres tid sended weor&t;e&d; dropena dreorung mid d&ae;ges hwile. \n",
      " Se w&ae;s in &t;am fire for frean meahtum halgum to helpe. \n",
      " Wear&d; se hata lig todrifen ond todw&ae;sced  &t;&ae;r &t;a d&ae;dhwatan &t;ry mid ge&t;oncum &t;eoden heredon  b&ae;don <corr>bletsian</corr> bearn in worulde ealle gesceafte ecne dryhten  &t;eoda waldend. \n",
      " Swa hi &t;ry cw&ae;don  modum horsce  &t;urh gem&ae;ne word: Bletsige &t;ec  bilwit f&ae;der  woruldsceafta wuldor ond weorca gehwylc  heofonas ond englas ond hluttor w&ae;ter  ond eal m&ae;gen eor&t;an gesceafta. \n",
      " Bletsige &t;ec  so&d;f&ae;st cyning  sunne ond <corr>mona</corr>  leohte leoman  lifgende god  h&ae;dre ond hlutre ond heofondreame w&ae;stem weor&d;ian. \n",
      " Ful oft &t;u  wuldorcyning  &t;urh lyft l&ae;test leodum to freme mildne morgenren. \n",
      " Monig sceal si&t;&t;an wyrt onw&ae;cnan  eac &t;on wudubearwas tanum tydra&d;. \n",
      " Trymma&d; eor&d;welan  hleo&d; ond hluttra&d;. \n",
      " N&ae;fre hlisan ah meotud &t;an maran &t;onne he wi&d; monna bearn wyrce&d; weld&ae;dum. \n",
      " Wis bi&d; se &t;e con ongytan &t;one geocend  &t;e us eall good syle&d; &t;e we habba&d; &t;enden we her beo&d;  ond us milde meotod mare gehate&d;  gif we geearnia&d;  elne willa&d;  &d;onne feran sceal &t;urh frean h&ae;se sundor anra gehw&ae;s sawl of lice. \n",
      " Ond &t;ec  god dryhten  g&ae;stas hergen  byrnende fyr ond beorht sumor  wearme wederdagas  waldend manna  frean on fer&d;e. \n",
      " Fremest eor&d;welan &t;urh monigne had  milde dryhten  ond &t;ec d&ae;g ond niht  domf&ae;st cyning  lofigen ond <corr>lufigen</corr>  <foreign>lux et tenebre</foreign>  &t;e &t;as wer&t;eoda weardum healda&d;. \n",
      " Deop dryhtnes bibod drugon hi &t;&ae;t longe. \n",
      " Ond &t;ec  Crist cyning  ceolas weor&d;ian  f&ae;der  forst ond snaw  folca waldend  winterbitera weder ond wolcna genipu  ond &t;ec liexende ligetta hergen  blace  breahtumhwate  brytenrices weard  dyrne dryhten. \n",
      " A &t;in dom sy god ond genge. \n",
      " &T;u &t;&ae;s geornlice wyrcest  wuldorcyning. \n",
      " W&ae;stmum herge  bletsien bledum  ond &t;in bl&ae;d wese a for&d; ece  &ae;lmihtig god. \n",
      " Wesa&d; ond weaxa&d; ealle wer&t;eode  lifga&d; bi &t;am lissum &t;e us se leofa cyning  ece dryhten  &ae;r gesette sinum bearnum to brice  bremen dryhten. \n",
      " Ond &t;ec  halga god  hea duna geond middangeard miltsum hergen  f&ae;ger folde ond f&ae;der rice. \n",
      " For&d;on waldend scop wudige moras  lofe leanige leohtes hyrde. \n",
      " Bletsige &t;ec  so&d;f&ae;st cyning  s&ae;s ond w&ae;tra hea holmas  haligne dryhten  domlice deop w&ae;ter; ond dryhtnes bibod geofonfloda gehwylc georne bihealde&d;  &t;onne merestreamas meotudes r&ae;swum w&ae;ter onwealca&d;. \n",
      " Witon ealdgecynd &t;&ae;t &ae;r gescop ece dryhten lagufloda bigong  leohtes hyrde  on &t;am wunia&d; widferende si&d;e on sunde seldlicra fela. \n",
      " Bletsien &t;ec &t;a ealle  ece dryhten  &t;urh &t;inne willan  <corr>wuldorf&ae;st</corr> cyning  ond &t;ec ealle &ae;sprynge  ece dryhten  heanne hergen. \n",
      " Ful oft &t;u hluttor l&ae;test w&ae;ter wynlico to woruldhyhte of clife cl&ae;num. \n",
      " &T;&ae;t us se cyning gescop monnum to miltse ond to m&ae;geneacan. \n",
      " Bletsien &t;ec  bilwit f&ae;der  fiscas ond fuglas  felameahtigne  ealle &t;a &t;e onhrera&d; hreo w&ae;gas on &t;am bradan brime  bremen dryhten  hergen haligne  ond <corr>heofonfuglas</corr>  &t;a &t;e lacende geond lyft fara&d;. \n",
      " Bletsien &t;ec  dryhten  deor ond nyten. \n",
      " Meotud monna bearn miltsum hergen ond ecne god  Israhela cynn. \n",
      " Bletsien &t;e &t;ine <corr>sacerdas</corr>  <corr>so&d;f&ae;st</corr> cyning  milde m&ae;sseras m&ae;rne dryhten  ond &t;ine <corr>&t;eowas</corr>  &d;eoda hyrde  swylce haligra hluttre saule  ond  ece god  ea&d;modheorte. \n",
      " Nu &t;ec Ananias ond Azarias ond Misahel  meotud  miltsum herga&d;. \n",
      " Nu we geonge &t;ry god bletsia&d;  felameahtigne f&ae;der in heofonum  &t;one so&d;an sunu ond &t;one sigef&ae;stan g&ae;st. \n",
      " For&t;on us onsende sigora waldend engel to are  se &t;e us bearg fyr ond feondas  ond mid fi&t;rum bewreah wi&d; brynebrogan. \n",
      " Breahtmum hwurfun ymb &t;&ae;t hate hus h&ae;&d;ne leode  &d;a &t;&ae;t ongeaton godes ondsacan &t;&ae;t hi ne meahtan  ne meotod wolde  acwellan cnyhta &ae;  ac hy Crist scilde. \n",
      " Hwearf &t;a to healle  swa he hra&t;ost meahte  eorl acolmod  &t;&ae;t he ofer his ealdre gestod. \n",
      " Abead &t;a for &t;&ae;re dugu&d;e deop &ae;rende  haligra gehyld  hlyst w&ae;s &t;&ae;r inne  gromhydig guma: &t;&ae;t ic geare wiste  &t;&ae;t we III h&ae;fdon  &t;eoda <corr>wisa</corr>  geonge cniehtas  for g&ae;stlufan gebunden to b&ae;le in byrnendes fyres leoman. \n",
      " Nu ic &t;&ae;r IIII men <corr>seo</corr> to <corr>so&d;e</corr>  nales me sylfa gerad. \n",
      " Hweorfa&d; nu &ae;fter heor&d;e  n&ae;ngum hat sce&t;e&d;  ofnes &ae;led  ac him is engel mid  hafa&d; beorhtne bl&ae;d; ne m&ae;g him bryne sce&t;&t;an wlitigne wuldorhoman. \n",
      " &D;a &t;am wordum swealg brego Caldea  gewat &t;a to &t;am bryne gongan anhydig eorl  &t;&ae;t he ofer &t;am ade gestod. \n",
      " Het &t;a of &t;am lige lifgende bearn Nabocodonossor near &ae;tgongan. \n",
      " Ne forhogodon &t;&ae;t &t;a halgan  si&t;&t;an hi hw&ae;tmode woruldcyninges weorn gehyrdon  ac eodon of &t;am fyre  feorh unwemme  wuldre gewlitegad  swa hyra w&ae;dum ne scod gifre gleda <corr>ni&d;</corr>  ac hi mid g&ae;stlufan synne geswencton ond gesigef&ae;ston  modum gleawe  in mon&t;eawum  &t;urh fore&t;oncas fyr gedygdon. \n"
     ]
    }
   ],
   "source": [
    "print (doc2)"
   ]
  },
  {
   "cell_type": "code",
   "execution_count": 5,
   "id": "ac228321-9ac9-4929-a935-c76ce59d2e0a",
   "metadata": {},
   "outputs": [
    {
     "ename": "ModuleNotFoundError",
     "evalue": "No module named 'cytoolz'",
     "output_type": "error",
     "traceback": [
      "\u001b[1;31m---------------------------------------------------------------------------\u001b[0m",
      "\u001b[1;31mModuleNotFoundError\u001b[0m                       Traceback (most recent call last)",
      "Input \u001b[1;32mIn [5]\u001b[0m, in \u001b[0;36m<cell line: 3>\u001b[1;34m()\u001b[0m\n\u001b[0;32m      1\u001b[0m \u001b[38;5;28;01mfrom\u001b[39;00m \u001b[38;5;21;01mlexos\u001b[39;00m\u001b[38;5;21;01m.\u001b[39;00m\u001b[38;5;21;01mdtm\u001b[39;00m \u001b[38;5;28;01mimport\u001b[39;00m DTM\n\u001b[0;32m      2\u001b[0m label \u001b[38;5;241m=\u001b[39m [\u001b[38;5;124m\"\u001b[39m\u001b[38;5;124mtest\u001b[39m\u001b[38;5;124m\"\u001b[39m]\n\u001b[1;32m----> 3\u001b[0m dtm \u001b[38;5;241m=\u001b[39m \u001b[43mDTM\u001b[49m\u001b[43m(\u001b[49m\u001b[43m[\u001b[49m\u001b[43mdoc2\u001b[49m\u001b[43m]\u001b[49m\u001b[43m,\u001b[49m\u001b[43m \u001b[49m\u001b[43mlabel\u001b[49m\u001b[43m)\u001b[49m\n\u001b[0;32m      4\u001b[0m dtm\u001b[38;5;241m.\u001b[39mbuild()\n",
      "File \u001b[1;32m~\\OneDrive\\Documents\\School\\summer22\\LexosRepo\\lexos\\lexos\\dtm\\__init__.py:24\u001b[0m, in \u001b[0;36mDTM.__init__\u001b[1;34m(self, docs, labels)\u001b[0m\n\u001b[0;32m     22\u001b[0m \u001b[38;5;28mself\u001b[39m\u001b[38;5;241m.\u001b[39mlabels \u001b[38;5;241m=\u001b[39m labels\n\u001b[0;32m     23\u001b[0m \u001b[38;5;28mself\u001b[39m\u001b[38;5;241m.\u001b[39mvectorizer_settings \u001b[38;5;241m=\u001b[39m {}\n\u001b[1;32m---> 24\u001b[0m \u001b[38;5;28mself\u001b[39m\u001b[38;5;241m.\u001b[39mvectorizer \u001b[38;5;241m=\u001b[39m \u001b[38;5;28;43mself\u001b[39;49m\u001b[38;5;241;43m.\u001b[39;49m\u001b[43mset_vectorizer\u001b[49m\u001b[43m(\u001b[49m\u001b[43mnew\u001b[49m\u001b[38;5;241;43m=\u001b[39;49m\u001b[38;5;28;43;01mTrue\u001b[39;49;00m\u001b[43m)\u001b[49m\n\u001b[0;32m     25\u001b[0m \u001b[38;5;28mself\u001b[39m\u001b[38;5;241m.\u001b[39mbuild()\n",
      "File \u001b[1;32m~\\OneDrive\\Documents\\School\\summer22\\LexosRepo\\lexos\\lexos\\dtm\\__init__.py:183\u001b[0m, in \u001b[0;36mDTM.set_vectorizer\u001b[1;34m(self, tf_type, idf_type, dl_type, norm, min_df, max_df, max_n_terms, vocabulary_terms, new)\u001b[0m\n\u001b[0;32m    167\u001b[0m \u001b[38;5;28;01mdef\u001b[39;00m \u001b[38;5;21mset_vectorizer\u001b[39m(\n\u001b[0;32m    168\u001b[0m     \u001b[38;5;28mself\u001b[39m,\n\u001b[0;32m    169\u001b[0m     tf_type: \u001b[38;5;28mstr\u001b[39m \u001b[38;5;241m=\u001b[39m \u001b[38;5;124m\"\u001b[39m\u001b[38;5;124mlinear\u001b[39m\u001b[38;5;124m\"\u001b[39m,\n\u001b[1;32m   (...)\u001b[0m\n\u001b[0;32m    177\u001b[0m     new: \u001b[38;5;28mbool\u001b[39m \u001b[38;5;241m=\u001b[39m \u001b[38;5;28;01mFalse\u001b[39;00m,\n\u001b[0;32m    178\u001b[0m ):\n\u001b[0;32m    179\u001b[0m     \u001b[38;5;124;03m\"\"\"Set the vectorizer.\u001b[39;00m\n\u001b[0;32m    180\u001b[0m \n\u001b[0;32m    181\u001b[0m \u001b[38;5;124;03m    By default, returns a vectorizer that gets raw counts.\u001b[39;00m\n\u001b[0;32m    182\u001b[0m \u001b[38;5;124;03m    \"\"\"\u001b[39;00m\n\u001b[1;32m--> 183\u001b[0m     \u001b[38;5;28;01mfrom\u001b[39;00m \u001b[38;5;21;01mtextacy\u001b[39;00m\u001b[38;5;21;01m.\u001b[39;00m\u001b[38;5;21;01mrepresentations\u001b[39;00m\u001b[38;5;21;01m.\u001b[39;00m\u001b[38;5;21;01mvectorizers\u001b[39;00m \u001b[38;5;28;01mimport\u001b[39;00m Vectorizer\n\u001b[0;32m    185\u001b[0m     vectorizer \u001b[38;5;241m=\u001b[39m Vectorizer(\n\u001b[0;32m    186\u001b[0m         tf_type\u001b[38;5;241m=\u001b[39mtf_type,\n\u001b[0;32m    187\u001b[0m         idf_type\u001b[38;5;241m=\u001b[39midf_type,\n\u001b[1;32m   (...)\u001b[0m\n\u001b[0;32m    193\u001b[0m         vocabulary_terms\u001b[38;5;241m=\u001b[39mvocabulary_terms,\n\u001b[0;32m    194\u001b[0m     )\n\u001b[0;32m    195\u001b[0m     \u001b[38;5;28mself\u001b[39m\u001b[38;5;241m.\u001b[39mvectorizer_settings \u001b[38;5;241m=\u001b[39m {\n\u001b[0;32m    196\u001b[0m         \u001b[38;5;124m\"\u001b[39m\u001b[38;5;124mtf_type\u001b[39m\u001b[38;5;124m\"\u001b[39m: tf_type,\n\u001b[0;32m    197\u001b[0m         \u001b[38;5;124m\"\u001b[39m\u001b[38;5;124midf_type\u001b[39m\u001b[38;5;124m\"\u001b[39m: idf_type,\n\u001b[1;32m   (...)\u001b[0m\n\u001b[0;32m    201\u001b[0m         \u001b[38;5;124m\"\u001b[39m\u001b[38;5;124mmax_n_terms\u001b[39m\u001b[38;5;124m\"\u001b[39m: max_n_terms,\n\u001b[0;32m    202\u001b[0m     }\n",
      "File \u001b[1;32m~\\anaconda3\\lib\\site-packages\\textacy\\__init__.py:5\u001b[0m, in \u001b[0;36m<module>\u001b[1;34m\u001b[0m\n\u001b[0;32m      3\u001b[0m \u001b[38;5;28;01mfrom\u001b[39;00m \u001b[38;5;21;01mtextacy\u001b[39;00m\u001b[38;5;21;01m.\u001b[39;00m\u001b[38;5;21;01m_version\u001b[39;00m \u001b[38;5;28;01mimport\u001b[39;00m __version__\n\u001b[0;32m      4\u001b[0m \u001b[38;5;28;01mfrom\u001b[39;00m \u001b[38;5;21;01mtextacy\u001b[39;00m\u001b[38;5;21;01m.\u001b[39;00m\u001b[38;5;21;01mconstants\u001b[39;00m \u001b[38;5;28;01mimport\u001b[39;00m DEFAULT_DATA_DIR\n\u001b[1;32m----> 5\u001b[0m \u001b[38;5;28;01mfrom\u001b[39;00m \u001b[38;5;21;01mtextacy\u001b[39;00m\u001b[38;5;21;01m.\u001b[39;00m\u001b[38;5;21;01mcorpus\u001b[39;00m \u001b[38;5;28;01mimport\u001b[39;00m Corpus\n\u001b[0;32m      6\u001b[0m \u001b[38;5;28;01mfrom\u001b[39;00m \u001b[38;5;21;01mtextacy\u001b[39;00m\u001b[38;5;21;01m.\u001b[39;00m\u001b[38;5;21;01mlang_id\u001b[39;00m \u001b[38;5;28;01mimport\u001b[39;00m identify_lang\n\u001b[0;32m      7\u001b[0m \u001b[38;5;28;01mfrom\u001b[39;00m \u001b[38;5;21;01mtextacy\u001b[39;00m\u001b[38;5;21;01m.\u001b[39;00m\u001b[38;5;21;01mspacier\u001b[39;00m\u001b[38;5;21;01m.\u001b[39;00m\u001b[38;5;21;01mcore\u001b[39;00m \u001b[38;5;28;01mimport\u001b[39;00m load_spacy_lang, make_spacy_doc\n",
      "File \u001b[1;32m~\\anaconda3\\lib\\site-packages\\textacy\\corpus.py:26\u001b[0m, in \u001b[0;36m<module>\u001b[1;34m\u001b[0m\n\u001b[0;32m     24\u001b[0m \u001b[38;5;28;01mimport\u001b[39;00m \u001b[38;5;21;01mnumpy\u001b[39;00m \u001b[38;5;28;01mas\u001b[39;00m \u001b[38;5;21;01mnp\u001b[39;00m\n\u001b[0;32m     25\u001b[0m \u001b[38;5;28;01mimport\u001b[39;00m \u001b[38;5;21;01mspacy\u001b[39;00m\n\u001b[1;32m---> 26\u001b[0m \u001b[38;5;28;01mfrom\u001b[39;00m \u001b[38;5;21;01mcytoolz\u001b[39;00m \u001b[38;5;28;01mimport\u001b[39;00m itertoolz\n\u001b[0;32m     27\u001b[0m \u001b[38;5;28;01mfrom\u001b[39;00m \u001b[38;5;21;01mspacy\u001b[39;00m\u001b[38;5;21;01m.\u001b[39;00m\u001b[38;5;21;01mlanguage\u001b[39;00m \u001b[38;5;28;01mimport\u001b[39;00m Language\n\u001b[0;32m     28\u001b[0m \u001b[38;5;28;01mfrom\u001b[39;00m \u001b[38;5;21;01mspacy\u001b[39;00m\u001b[38;5;21;01m.\u001b[39;00m\u001b[38;5;21;01mtokens\u001b[39;00m \u001b[38;5;28;01mimport\u001b[39;00m Doc\n",
      "\u001b[1;31mModuleNotFoundError\u001b[0m: No module named 'cytoolz'"
     ]
    }
   ],
   "source": [
    "from lexos.dtm import DTM\n",
    "label = [\"test\"]\n",
    "dtm = DTM([doc2], label)\n",
    "dtm.build()"
   ]
  },
  {
   "cell_type": "code",
   "execution_count": null,
   "id": "a290324c-b4ef-4708-9a85-cb57d6adf674",
   "metadata": {},
   "outputs": [],
   "source": [
    "print (\"Data Table: \\n\")\n",
    "df = dtm.get_table()\n",
    "print (df)\n",
    "\n",
    "print (\"\\nMost Frequent Terms: \\n\")\n",
    "most_frequent = dtm.most_frequent(max_n_terms=25)\n",
    "print (most_frequent)"
   ]
  },
  {
   "cell_type": "code",
   "execution_count": null,
   "id": "d6324208-9eb3-4a47-820d-729793da17e4",
   "metadata": {},
   "outputs": [],
   "source": [
    "from lexos.dtm import get_doc_term_counts\n",
    "df = get_doc_term_counts([doc2], as_df=True)\n",
    "df"
   ]
  },
  {
   "cell_type": "markdown",
   "id": "17a5a284-dd21-42f9-bc0b-db4e5c1191d4",
   "metadata": {},
   "source": [
    "## Ensure Loader is working correctly"
   ]
  },
  {
   "cell_type": "code",
   "execution_count": null,
   "id": "8bccfbfd-e43d-407d-92bc-ed1293573ad1",
   "metadata": {},
   "outputs": [],
   "source": [
    "for i, doc in enumerate(doc1):\n",
    "    print(doc.text[0:50])\n",
    "\n",
    "print (\"\\n\")\n",
    "\n",
    "print(doc2.text[0:50])"
   ]
  },
  {
   "cell_type": "markdown",
   "id": "c2907daf-db84-4c42-99c7-2aec9b564976",
   "metadata": {},
   "source": [
    "## Cut texts"
   ]
  },
  {
   "cell_type": "code",
   "execution_count": null,
   "id": "42af011c-2801-4b66-a5ee-050a3675dc3e",
   "metadata": {},
   "outputs": [],
   "source": [
    "from lexos.cutter import Ginsu\n",
    "cutter = Ginsu()\n",
    "\n",
    "doc1split = cutter.splitn(doc1, n=10)\n",
    "doc1split = doc1split[0]\n",
    "\n",
    "docs = doc1split\n",
    "docs.append(doc2)\n",
    "\n",
    "print (len(docs))"
   ]
  },
  {
   "cell_type": "code",
   "execution_count": 19,
   "id": "356c073d-4291-46a3-bf8b-575431aec0fb",
   "metadata": {},
   "outputs": [
    {
     "name": "stdout",
     "output_type": "stream",
     "text": [
      "0 -------------------------------------------\n",
      "\n",
      " Gefr&ae;gn ic Hebreos eadge lifgean in Hierusalem  goldhord d&ae;lan  cyningdom habban  swa him gecynde w&ae;s  si&d;&d;an &t;urh metodes m&ae;gen on\n",
      "1 -------------------------------------------\n",
      "\n",
      "sine gerefan geond Israela earme lafe  hwilc &t;&ae;re geogo&d;e gleawost w&ae;re boca bebodes  &t;e &t;&ae;r brungen w&ae;s. \n",
      " Wolde &t;&ae;t &t;a c\n",
      "2 -------------------------------------------\n",
      "\n",
      "reccan sinum frean  s&ae;gde him wislice wereda gesceafte  &t;&ae;tte sona ongeat swi&d;mod cyning ord and ende &t;&ae;s &t;e him ywed w&ae;s. \n",
      " &D;a\n",
      "3 -------------------------------------------\n",
      "\n",
      "t;eah &t;e hie swa grome nydde in f&ae;&d;m fyres lige  hw&ae;&d;ere heora feorh generede mihtig metodes weard. \n",
      " Swa &t;&ae;t m&ae;nige gefrunon  ha\n",
      "4 -------------------------------------------\n",
      "\n",
      "; is user lif geond landa fela fraco&d; and gefr&ae;ge folca manegum  &t;a <corr>usic</corr> bewr&ae;con to &t;&ae;s wyrrestan eor&d;cyninga &ae;hta g\n",
      "5 -------------------------------------------\n",
      "\n",
      " somod hat and ceald. \n",
      " And &t;ec  frea mihtig  forstas and snawas  winterbiter weder and wolcenfaru  lofige on lyfte. \n",
      " And &t;ec ligetu  blace  be\n",
      "6 -------------------------------------------\n",
      "\n",
      "t;a se br&ae;sna Babilone weard swi&d;mod sinum leodum  &t;&ae;t se w&ae;re his aldre scyldig  se &d;&ae;s onsoce &t;&ae;tte so&d; w&ae;re m&ae;re mih\n",
      "7 -------------------------------------------\n",
      "\n",
      "wealde&d; &t;onne he him wi&d; m&ae;ge. \n",
      " &T;a of sl&ae;pe onwoc  swefn w&ae;s &ae;t ende  eor&d;lic &ae;&d;eling  him &t;&ae;s egesa stod  gryre fra\n",
      "8 -------------------------------------------\n",
      "\n",
      "cr&ae;ft  &t;&ae;t &t;&ae;s a se rica reccan wolde  middangeardes weard  ac his mod astah  heah fram heortan; he &t;&ae;s hearde ongeald. \n",
      " Ongan &d;\n",
      "9 -------------------------------------------\n",
      "\n",
      "Persum aldordomes <corr>ymb</corr> lytel f&ae;c  let Babilone bl&ae;d swi&d;rian  &t;one &t;a h&ae;le&d; healdan sceoldon. \n",
      " Wiste he ealdormen in un\n",
      "10 -------------------------------------------\n",
      "\n",
      " Him &t;a Azarias inge&t;oncum hleo&t;rede halig &t;urh hatne lig  dreag d&ae;dum georn  dryhten herede  wis in weorcum  ond &t;as word acw&ae;&d;: Me\n"
     ]
    }
   ],
   "source": [
    "for i, adoc in enumerate(docs):\n",
    "    print(i,\"-------------------------------------------\\n\")\n",
    "    print(adoc.text[0:150])\n",
    "    "
   ]
  },
  {
   "cell_type": "markdown",
   "id": "7dfa1e23-2477-421e-9051-f9d6c9360582",
   "metadata": {},
   "source": [
    "## Initiate DTM"
   ]
  },
  {
   "cell_type": "code",
   "execution_count": 20,
   "id": "363d00a4-6aae-4e45-af19-dd2cc2ff832a",
   "metadata": {},
   "outputs": [],
   "source": [
    "from lexos.dtm import DTM\n",
    "labels = [\"Dan1\", \"Dan2\", \"Dan3\", \"Dan4\", \"Dan5\", \"Dan6\", \"Dan7\", \"Dan8\", \"Dan9\", \"Dan10\", \"Az\"]\n",
    "dtm = DTM(docs, labels)"
   ]
  },
  {
   "cell_type": "markdown",
   "id": "11c07f21-7ad0-49b7-9588-56f722e7de44",
   "metadata": {},
   "source": [
    "## Examine DTM"
   ]
  },
  {
   "cell_type": "code",
   "execution_count": 21,
   "id": "01dcb18b-fcf5-4a67-ac2f-3dad7d091d59",
   "metadata": {},
   "outputs": [
    {
     "name": "stdout",
     "output_type": "stream",
     "text": [
      "Data Table: \n",
      "\n",
      "          terms  Dan1  Dan2  Dan3  Dan4  Dan5  Dan6  Dan7  Dan8  Dan9  Dan10  \\\n",
      "0         \\r\\n     22    21    18    27    20    27    19    22    22     20   \n",
      "1                  69    62    68    50    66    72    60    68    78     64   \n",
      "2             &    63    76    84    64    71    60    69    73    58     77   \n",
      "3             (     0     1     0     0     0     0     0     0     0      0   \n",
      "4             )     0     1     0     0     0     0     0     0     0      0   \n",
      "...         ...   ...   ...   ...   ...   ...   ...   ...   ...   ...    ...   \n",
      "2165        ymb     0     0     0     2     0     0     0     2     0      0   \n",
      "2166  ymb</corr     0     0     0     0     0     0     0     0     0      1   \n",
      "2167       ymbe     0     0     0     0     0     0     0     1     0      0   \n",
      "2168       yrre     0     0     2     0     0     0     0     1     0      0   \n",
      "2169       ywed     0     0     1     0     0     0     0     0     0      0   \n",
      "\n",
      "       Az  \n",
      "0      52  \n",
      "1     173  \n",
      "2     147  \n",
      "3       0  \n",
      "4       0  \n",
      "...   ...  \n",
      "2165    3  \n",
      "2166    0  \n",
      "2167    0  \n",
      "2168    0  \n",
      "2169    0  \n",
      "\n",
      "[2170 rows x 12 columns]\n",
      "\n",
      "Most Frequent Terms: \n",
      "\n",
      "        terms  Dan1  Dan2  Dan3  Dan4  Dan5  Dan6  Dan7  Dan8  Dan9  Dan10  \\\n",
      "2           &    63    76    84    64    71    60    69    73    58     77   \n",
      "1                69    62    68    50    66    72    60    68    78     64   \n",
      "5           .    22    21    18    27    20    27    19    22    22     21   \n",
      "0       \\r\\n     22    21    18    27    20    27    19    22    22     20   \n",
      "9           >    30    13    11    22    21    25    17    11     4      5   \n",
      "7           ;    10    12     9    11    16    19    20    17     9     13   \n",
      "259       and     8     6     6    10    29    20    10    14     7      7   \n",
      "1779  t;&ae;t     6    11    12     4     7     7    12    12     4     15   \n",
      "8           <    16     7     6    12    11    13     9     6     2      3   \n",
      "1518       on     7     7     5    14    13    10    10     5     7      6   \n",
      "461      corr    14     6     5    10    10    12     8     5     2      2   \n",
      "1856       to     8     5    13     4     8     4     2     5     5      6   \n",
      "1781      t;a     7    11     6     4     6     7     7     2     6      7   \n",
      "1164      him     9    11    10     7     3     5    10     5     7      4   \n",
      "1243       in     2     5     6     5     4     3     3     1    11     14   \n",
      "1090       he     3     6    10     1     1     2     9     8    11      7   \n",
      "1783     t;am     6     6    10     5     2     5     6     3     1      5   \n",
      "1521      ond     0     0     0     0     0     0     0     0     0      0   \n",
      "1639       se     0     4     3     6     6     5     8     7     5      2   \n",
      "1790      t;e     3     5     9     4     4     1     5     3     6      3   \n",
      "1919   w&ae;s     7     5     5     7     6     1     2     6     5      2   \n",
      "1158      hie     8     3    13     7     1     5     5     3     0      4   \n",
      "1459       ne     2     7    11     3     1     2     1     3     1      5   \n",
      "1836    t;urh     3     3     0     3     4     0     3     3     4      2   \n",
      "1746      swa     2     5     4     4     1     1     2     5     5      1   \n",
      "\n",
      "       Az  sum  \n",
      "2     147  842  \n",
      "1     173  830  \n",
      "5      53  272  \n",
      "0      52  270  \n",
      "9      30  189  \n",
      "7      44  180  \n",
      "259     0  117  \n",
      "1779   16  106  \n",
      "8      16  101  \n",
      "1518    9   93  \n",
      "461    13   87  \n",
      "1856   17   77  \n",
      "1781   13   76  \n",
      "1164    5   76  \n",
      "1243   13   67  \n",
      "1090    4   62  \n",
      "1783   10   59  \n",
      "1521   57   57  \n",
      "1639    8   54  \n",
      "1790   10   53  \n",
      "1919    5   51  \n",
      "1158    0   49  \n",
      "1459    5   41  \n",
      "1836   13   38  \n",
      "1746    7   37  \n"
     ]
    },
    {
     "name": "stderr",
     "output_type": "stream",
     "text": [
      "C:\\Users\\jack\\OneDrive\\Documents\\School\\summer22\\LexosRepo\\lexos\\lexos\\dtm\\__init__.py:100: FutureWarning: Dropping of nuisance columns in DataFrame reductions (with 'numeric_only=None') is deprecated; in a future version this will raise TypeError.  Select only valid columns before calling the reduction.\n",
      "  tmp[\"sum\"] = df.sum(axis=1)\n"
     ]
    }
   ],
   "source": [
    "print (\"Data Table: \\n\")\n",
    "df = dtm.get_table()\n",
    "print (df)\n",
    "\n",
    "print (\"\\nMost Frequent Terms: \\n\")\n",
    "most_frequent = dtm.most_frequent(max_n_terms=25)\n",
    "print (most_frequent)"
   ]
  },
  {
   "cell_type": "markdown",
   "id": "8b62f4d8-131f-4052-a5c0-e44d84486fb8",
   "metadata": {},
   "source": [
    "## Create Dendogram"
   ]
  },
  {
   "cell_type": "code",
   "execution_count": 22,
   "id": "aa3233b1-0782-4807-939d-d5845178899f",
   "metadata": {},
   "outputs": [
    {
     "data": {
      "image/png": "[encoded data removed]",
      "text/plain": [
       "<Figure size 720x720 with 1 Axes>"
      ]
     },
     "metadata": {
      "needs_background": "light"
     },
     "output_type": "display_data"
    }
   ],
   "source": [
    "dendrogram = Dendrogram(dtm, show=True)"
   ]
  },
  {
   "cell_type": "code",
   "execution_count": null,
   "id": "063e7be6-e9dd-47e8-aa98-4a98c7b3adf5",
   "metadata": {},
   "outputs": [],
   "source": []
  }
 ],
 "metadata": {
  "interpreter": {
   "hash": "2aa7953f390f28e7e50d668f5dd71a50654ba94f4b9e6876e74ed7ed7caa2611"
  },
  "kernelspec": {
   "display_name": "Python 3 (ipykernel)",
   "language": "python",
   "name": "python3"
  },
  "language_info": {
   "codemirror_mode": {
    "name": "ipython",
    "version": 3
   },
   "file_extension": ".py",
   "mimetype": "text/x-python",
   "name": "python",
   "nbconvert_exporter": "python",
   "pygments_lexer": "ipython3",
   "version": "3.9.12"
  }
 },
 "nbformat": 4,
 "nbformat_minor": 5
}
