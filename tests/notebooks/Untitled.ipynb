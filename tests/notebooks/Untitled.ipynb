{
 "cells": [
  {
   "cell_type": "code",
   "execution_count": 8,
   "id": "b834876d-7d2a-4a42-87dd-cd88caba7a29",
   "metadata": {},
   "outputs": [
    {
     "name": "stdout",
     "output_type": "stream",
     "text": [
      "False\n"
     ]
    }
   ],
   "source": [
    "docs = [\"f\", \"g\", 1]\n",
    "\n",
    "def _test_input(self, input: List[Union[object, str]]) -> bool:\n",
    "    \"\"\"Make sure that the DTM input consists of valid token lists or spaCy documents.\n",
    "    \n",
    "    Args:\n",
    "        input (List[Union[object, str]]): A list of spaCy documents or token lists.\n",
    "        \n",
    "    Returns:\n",
    "        List[List[str]]: A list of token lists.\n",
    "    \"\"\"\n",
    "    # If all items are of the same data type\n",
    "    if all(isinstance(sub, type(input[0])) for sub in input[1:]):\n",
    "        # If all items are strings\n",
    "        if all(isinstance(sub, str) for sub in input[1:])\n",
    "            return input\n",
    "        # If all items are objects\n",
    "        elif all(isinstance(sub, object) for sub in input[1:]):\n",
    "            return [[token.text for token in doc] for doc in input]\n",
    "        else:\n",
    "            raise Exception(\"Input contained an unrecognized data type.\")            \n",
    "    else:\n",
    "        raise Exception(\"All items in the list must be of the same data type.\")\n",
    "\n",
    "print(test_input(docs))"
   ]
  },
  {
   "cell_type": "code",
   "execution_count": null,
   "id": "cbccb046-903c-4d71-857b-d8a4796c8172",
   "metadata": {},
   "outputs": [],
   "source": []
  }
 ],
 "metadata": {
  "kernelspec": {
   "display_name": "Lexos",
   "language": "python",
   "name": "lexos"
  },
  "language_info": {
   "codemirror_mode": {
    "name": "ipython",
    "version": 3
   },
   "file_extension": ".py",
   "mimetype": "text/x-python",
   "name": "python",
   "nbconvert_exporter": "python",
   "pygments_lexer": "ipython3",
   "version": "3.9.12"
  }
 },
 "nbformat": 4,
 "nbformat_minor": 5
}
