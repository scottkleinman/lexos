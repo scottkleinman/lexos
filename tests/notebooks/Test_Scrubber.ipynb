{
 "cells": [
  {
   "cell_type": "markdown",
   "metadata": {},
   "source": [
    "# Test Scrubber\n",
    "   \n",
    "This notebook is to show examples of how to use the `scrubber`"
   ]
  },
  {
   "cell_type": "markdown",
   "metadata": {},
   "source": [
    "## Add Lexos to the Jupyter `sys.path`\n",
    "\n",
    "We run a small script to do this in the same folder as the notebook."
   ]
  },
  {
   "cell_type": "code",
   "execution_count": 1,
   "metadata": {},
   "outputs": [
    {
     "name": "stdout",
     "output_type": "stream",
     "text": [
      "System path set to `../../../lexos`.\n"
     ]
    }
   ],
   "source": [
    "%run jupyter_local_setup.py ../../../lexos"
   ]
  },
  {
   "cell_type": "markdown",
   "metadata": {},
   "source": [
    "## Import Scrubber Modules"
   ]
  },
  {
   "cell_type": "code",
   "execution_count": 2,
   "metadata": {},
   "outputs": [],
   "source": [
    "from lexos.scrubber.registry import scrubber_components, load_components, load_component\n",
    "from lexos.scrubber.pipeline import pipe, make_pipeline"
   ]
  },
  {
   "cell_type": "markdown",
   "metadata": {},
   "source": [
    "## Load Components\n",
    "\n",
    "Components can be loaded individually or multiple at a time"
   ]
  },
  {
   "cell_type": "code",
   "execution_count": 4,
   "metadata": {},
   "outputs": [],
   "source": [
    "# Load a component from the registry\n",
    "lower_case = scrubber_components.get(\"lower_case\")\n",
    "\n",
    "#Alternative way to load a single component\n",
    "whitespace = load_component(\"whitespace\")\n",
    "\n",
    "# Load multiple components at once\n",
    "punctuation, remove_digits = load_components((\"punctuation\", \"digits\"))"
   ]
  },
  {
   "cell_type": "markdown",
   "metadata": {},
   "source": [
    "## Apply individual components\n",
    "\n",
    "Components can be used individually like normal functions"
   ]
  },
  {
   "cell_type": "code",
   "execution_count": 5,
   "metadata": {},
   "outputs": [
    {
     "name": "stdout",
     "output_type": "stream",
     "text": [
      "there  are  35 characters in this  sentence. \n",
      "there are 35 characters in this sentence.\n",
      "there are 35 characters in this sentence\n",
      "there are 3 characters in this sentence\n"
     ]
    }
   ],
   "source": [
    "original_text = (\"There  are  35 characters in this  sentence. \")\n",
    "\n",
    "scrubbed_text = lower_case(original_text)\n",
    "print (scrubbed_text)\n",
    "\n",
    "scrubbed_text = whitespace(scrubbed_text)\n",
    "print(scrubbed_text)\n",
    "\n",
    "scrubbed_text = punctuation(scrubbed_text)\n",
    "print(scrubbed_text)\n",
    "\n",
    "scrubbed_text = remove_digits(scrubbed_text, only=\"5\")\n",
    "print(scrubbed_text)"
   ]
  },
  {
   "cell_type": "markdown",
   "metadata": {},
   "source": [
    "## Pipelines\n",
    "\n",
    "Components can be put into a pipeline to apply multiple components to a text in a specific order."
   ]
  },
  {
   "cell_type": "code",
   "execution_count": 8,
   "metadata": {},
   "outputs": [
    {
     "name": "stdout",
     "output_type": "stream",
     "text": [
      "there are 3 characters in this sentence\n"
     ]
    }
   ],
   "source": [
    "scrub = make_pipeline(\n",
    "    lower_case,\n",
    "    whitespace,\n",
    "    punctuation,\n",
    "    pipe(remove_digits, only=[\"5\"]) #components with additional arguments beyond the text need to be passed\n",
    "                                    #through the pipe() function with the component name as the first argument\n",
    ")\n",
    "scrubbed_text = scrub(original_text)\n",
    "print(scrubbed_text)"
   ]
  },
  {
   "cell_type": "markdown",
   "metadata": {},
   "source": [
    "## Making Custom Components\n",
    "\n",
    "Users can write custom components. They are written just like a standard function but must be registered before they are loaded as a component."
   ]
  },
  {
   "cell_type": "code",
   "execution_count": 9,
   "metadata": {},
   "outputs": [
    {
     "name": "stdout",
     "output_type": "stream",
     "text": [
      "There  Are  35 Characters In This  Sentence. \n"
     ]
    }
   ],
   "source": [
    "# Define the custom function\n",
    "def title_case(text: str) -> str:\n",
    "    \"\"\"Our custom function to convert text to title case.\"\"\"\n",
    "    return text.title()\n",
    "\n",
    "# Register the custom function\n",
    "scrubber_components.register(\"title_case\", func=title_case)\n",
    "\n",
    "title = load_component(\"title_case\")\n",
    "\n",
    "scrubbed_text = title(original_text)\n",
    "print (scrubbed_text)"
   ]
  }
 ],
 "metadata": {
  "kernelspec": {
   "display_name": "Python 3.9.12 ('base')",
   "language": "python",
   "name": "python3"
  },
  "language_info": {
   "codemirror_mode": {
    "name": "ipython",
    "version": 3
   },
   "file_extension": ".py",
   "mimetype": "text/x-python",
   "name": "python",
   "nbconvert_exporter": "python",
   "pygments_lexer": "ipython3",
   "version": "3.9.12"
  },
  "orig_nbformat": 4,
  "vscode": {
   "interpreter": {
    "hash": "c1a182fbbe39991ab3c9f482a16703f4da6dfd24ce0191d5b4794b62c97dd21c"
   }
  }
 },
 "nbformat": 4,
 "nbformat_minor": 2
}
