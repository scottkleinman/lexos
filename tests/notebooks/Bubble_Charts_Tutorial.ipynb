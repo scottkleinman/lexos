{
 "cells": [
  {
   "cell_type": "markdown",
   "metadata": {},
   "source": [
    "# `Bubble Charts` Tutorial\n",
    "   \n",
    "This notebook is to show examples of how to produce bubble chart visualisations of term counts. It starts out with a condensed version of the tutorial for the `dtm` module."
   ]
  },
  {
   "cell_type": "markdown",
   "metadata": {},
   "source": [
    "## Load Data and Construct a DTM\n",
    "\n",
    "For this tutorial, we will load Jane Austen's _Pride and Prejudice_, tokenise it, and then cut it into ten segments, which we'll treat as ten separate documents."
   ]
  },
  {
   "cell_type": "code",
   "execution_count": null,
   "metadata": {},
   "outputs": [],
   "source": [
    "# Python imports\n",
    "import re\n",
    "from lexos.io.smart import Loader\n",
    "from lexos import tokenizer\n",
    "from lexos.cutter.ginsu import Ginsu\n",
    "from lexos.dtm import DTM\n",
    "\n",
    "# Load the data\n",
    "loader = Loader()\n",
    "loader.load(\"../test_data/txt/Austen_Pride.txt\")\n",
    "text = re.sub(\"[\\r\\n|\\n]\", \" \", loader.texts[0]).strip()\n",
    "\n",
    "# Make a doc\n",
    "doc = tokenizer.make_doc(text)\n",
    "\n",
    "# Cut the god into 10 segments\n",
    "cutter = Ginsu()\n",
    "docs = cutter.splitn(doc, n=10)\n",
    "\n",
    "# Build a DTM with labels\n",
    "labels=[\"Pride1\", \"Pride2\", \"Pride3\", \"Pride4\", \"Pride5\", \"Pride6\", \"Pride7\", \"Pride8\", \"Pride9\", \"Pride10\"]\n",
    "dtm = DTM(docs, labels=labels)"
   ]
  },
  {
   "cell_type": "markdown",
   "metadata": {},
   "source": [
    "## Create a Bubble Chart\n",
    "\n",
    "Bubble Charts are an alternative form of word cloud. In the Lexos web app, a buble chart is known as a `bubbleviz`, and that is the name used for the Lexos API module. Note that `bubbleviz` is still somewhat experimental and subject to change.\n",
    "\n",
    "In the example below, we get lists of terms and their counts from our spaCy docs and feed them to the `create_bubble_chart()` function."
   ]
  },
  {
   "cell_type": "code",
   "execution_count": null,
   "metadata": {},
   "outputs": [],
   "source": [
    "from collections import Counter\n",
    "from lexos.visualization.bubbleviz import create_bubble_chart\n",
    "\n",
    "# Get a Python Counter containing term counts for all docs\n",
    "term_counts = Counter([token.text for doc in docs for token in doc])\n",
    "\n",
    "# Get the terms and counts (area) as lists\n",
    "terms = list(term_counts.keys())\n",
    "counts = list(term_counts.values())\n",
    "\n",
    "# Create the bubble chart\n",
    "create_bubble_chart(terms, counts, show=True)"
   ]
  },
  {
   "cell_type": "markdown",
   "metadata": {},
   "source": [
    "This may seem somewhat inefficient. Why can't you just provide a DTM? You can with the `create_bubble_chart_from_dtm()` function."
   ]
  },
  {
   "cell_type": "code",
   "execution_count": null,
   "metadata": {},
   "outputs": [],
   "source": [
    "from lexos.visualization.bubbleviz import create_bubble_chart_from_dtm\n",
    "\n",
    "# Create the bubble chart\n",
    "create_bubble_chart_from_dtm(dtm, show=True)"
   ]
  },
  {
   "cell_type": "markdown",
   "metadata": {},
   "source": [
    "You will notice that this produces a different (and probably less useful) bubble chart. The reason is that the Python `Counter` class preserves the order of the tokens, so that the counts are fed to the plotting algorithm in a non-sequential order. This appears to influence how the algorithm handles collisions between bubbles. As a result, the Python `Counter` to get the terms and counts and feeding them to `create_bubble_chart()` is currently the preferred method for generating bubble charts."
   ]
  },
  {
   "cell_type": "markdown",
   "metadata": {},
   "source": [
    "Both functions take a number of optional arguments:\n",
    "\n",
    "- `limit`: The maximum number of bubbles to plot. Default = 100.\n",
    "- `title`: The title of the plot.\n",
    "- `bubble_spacing`: The spacing between bubbles. Default = 0.1\n",
    "- `colors`: The colors of the bubbles. This must be a list of colors in hexadecimal format (e.g. \"#5A69AF\").\n",
    "- `figsize`: A tuple containing the height and width of the figure. Default = (15, 15).\n",
    "- `font_family`: The font family of the plot (must be installed on your system). Default = \"DejaVu Sans\".\n",
    "- `show`: Whether to show the plot. Default = True.\n",
    "- `filename`: The filename to save the plot to.\n",
    "\n",
    "Feel free to try these out in the cell below.\n"
   ]
  },
  {
   "cell_type": "code",
   "execution_count": null,
   "metadata": {},
   "outputs": [],
   "source": [
    "create_bubble_chart(terms, counts, show=True)"
   ]
  }
 ],
 "metadata": {
  "kernelspec": {
   "display_name": "Python 3.9.12 ('base')",
   "language": "python",
   "name": "python3"
  },
  "language_info": {
   "codemirror_mode": {
    "name": "ipython",
    "version": 3
   },
   "file_extension": ".py",
   "mimetype": "text/x-python",
   "name": "python",
   "nbconvert_exporter": "python",
   "pygments_lexer": "ipython3",
   "version": "3.9.12"
  },
  "orig_nbformat": 4,
  "vscode": {
   "interpreter": {
    "hash": "ff93cd05c7a11458fc6e692c465602a12d07b4d86c038fa25d5e533c12dcd222"
   }
  }
 },
 "nbformat": 4,
 "nbformat_minor": 2
}
