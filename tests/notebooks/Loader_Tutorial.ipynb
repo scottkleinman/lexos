{
 "cells": [
  {
   "cell_type": "markdown",
   "metadata": {},
   "source": [
    "# `Loader` Tutorial\n",
    "   \n",
    "Python has numerous ways to open files on your computer or download them from the internet. The Lexos `Loader` is a \"helper\" that invisibly takes care of many of the gotchas (like non-standard character encodings) so that you can get on with your work.\n",
    "\n",
    "The `Loader` is in active development and has a number of different versions the most advanced version is currently the \"smart\" version, and you'll see this referenced in the `import` statement below.\n",
    "\n",
    "You use the `Loader` by first instantiating a `Loader` class and then calling the `load()` function. This allows you to add texts to your loader multiple times."
   ]
  },
  {
   "cell_type": "markdown",
   "metadata": {},
   "source": [
    "## Import the `Loader` Module"
   ]
  },
  {
   "cell_type": "code",
   "execution_count": 2,
   "metadata": {},
   "outputs": [],
   "source": [
    "from lexos.io.smart import Loader"
   ]
  },
  {
   "cell_type": "markdown",
   "metadata": {},
   "source": [
    "## Load a Local File or a List of Local Files\n",
    "\n",
    "Notice in the list below that you can load `.txt`, `.docx`, or `.pdf` formats.\n",
    "\n",
    "When files are loaded into a `Loader`, their character encoding is automatically converted into UTF-8 format."
   ]
  },
  {
   "cell_type": "code",
   "execution_count": null,
   "metadata": {},
   "outputs": [],
   "source": [
    "# A single file\n",
    "data = \"../test_data/txt/Austen_Pride.txt\"\n",
    "\n",
    "loader1 = Loader()\n",
    "loader1.load(data)\n",
    "\n",
    "# A list files\n",
    "data = [\"../test_data/txt/Austen_Pride.txt\",\n",
    "        \"../test_data/docx/Austen_Sense_sm.docx\",\n",
    "        \"../test_data/pdf/Austen_Pride_sm.pdf\"]\n",
    "\n",
    "loader2 = Loader()\n",
    "loader2.load(data)\n"
   ]
  },
  {
   "cell_type": "markdown",
   "metadata": {},
   "source": [
    "## Accessing Texts in a `Loader`\n",
    "\n",
    "Texts are accessed with `loader.texts`. This is a list, so, if you wish to access a single text, you must do so by its index in the list (e.g. `loader.texts[0]`).\n",
    "\n",
    "However, if you are using a loop, you can use `for text in loader` in addition to `for text in loader.texts`.\n",
    "\n",
    "In the examples below, we print only the first 100 characters."
   ]
  },
  {
   "cell_type": "code",
   "execution_count": null,
   "metadata": {},
   "outputs": [],
   "source": [
    "text = loader1.texts[0]\n",
    "print(text[0:100])\n",
    "\n",
    "print(\"===============================\")\n",
    "\n",
    "for text in loader2:\n",
    "        print(text[0:100])"
   ]
  },
  {
   "cell_type": "markdown",
   "metadata": {},
   "source": [
    "## Loading Local Directories or Zip Files   \n",
    "\n",
    "Directories or zip files containing files of `.txt`, `.docx`, and `.pdf` extenstions can be loaded using the same technique."
   ]
  },
  {
   "cell_type": "code",
   "execution_count": null,
   "metadata": {},
   "outputs": [],
   "source": [
    "# Get all the files in the docx directory\n",
    "loader1 = Loader()\n",
    "loader1.load(\"../test_data/docx\")\n",
    "\n",
    "# Get all the files in a zip file\n",
    "loader2.load(\"../test_data/zip/txt.zip\")\n",
    "\n",
    "# Print the first 100 characters of the first file in the directory\n",
    "print(loader1.texts[0][0:100])\n",
    "\n",
    "# Print the first 100 characters of the first file in the zip file\n",
    "print(loader1.texts[0][0:100])"
   ]
  },
  {
   "cell_type": "markdown",
   "metadata": {},
   "source": [
    "## Load Texts from a URL\n",
    "\n",
    "Use the same technique to download a text or texts from a url or a list of urls."
   ]
  },
  {
   "cell_type": "code",
   "execution_count": null,
   "metadata": {},
   "outputs": [],
   "source": [
    "loader = Loader()\n",
    "loader.load(\"https://www.gutenberg.org/files/84/84-0.txt\")\n",
    "\n",
    "print (loader.texts[0][0:1000])"
   ]
  }
 ],
 "metadata": {
  "kernelspec": {
   "display_name": "Python 3 (ipykernel)",
   "language": "python",
   "name": "python3"
  },
  "language_info": {
   "codemirror_mode": {
    "name": "ipython",
    "version": 3
   },
   "file_extension": ".py",
   "mimetype": "text/x-python",
   "name": "python",
   "nbconvert_exporter": "python",
   "pygments_lexer": "ipython3",
   "version": "3.9.12"
  },
  "vscode": {
   "interpreter": {
    "hash": "c1a182fbbe39991ab3c9f482a16703f4da6dfd24ce0191d5b4794b62c97dd21c"
   }
  }
 },
 "nbformat": 4,
 "nbformat_minor": 4
}
