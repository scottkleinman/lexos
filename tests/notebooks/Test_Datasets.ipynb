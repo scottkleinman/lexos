{
 "cells": [
  {
   "cell_type": "markdown",
   "id": "cdb8e213-bdf2-4a9d-8a62-32e0dcda5487",
   "metadata": {},
   "source": [
    "# Test the Datasets Class"
   ]
  },
  {
   "cell_type": "code",
   "execution_count": 8,
   "id": "a5a5dd11-6fee-45f6-9586-3d531a489982",
   "metadata": {},
   "outputs": [],
   "source": [
    "from lexos.io.dataset import Dataset, DatasetLoader\n",
    "from lexos.io.smart import Loader"
   ]
  },
  {
   "cell_type": "markdown",
   "id": "3c24521a-fc41-49d6-b637-89912f58d5f1",
   "metadata": {},
   "source": [
    "## Configure Dataset Type\n",
    "\n",
    "- headerlines lines\n",
    "- lines with headers\n",
    "- headerless csv\n",
    "- csv\n",
    "- json"
   ]
  },
  {
   "cell_type": "code",
   "execution_count": 2,
   "id": "ba507913-3ca4-4998-a420-4aa55e163440",
   "metadata": {},
   "outputs": [],
   "source": [
    "dataset_types = {\n",
    "    \"raw_str_no_headers\": \"Test1\\nTest2\",\n",
    "    \"local_path\": \"../test_data/datasets/Austen.txt\",\n",
    "    \"local_csv\": \"../test_data/datasets/Austen.csv\",\n",
    "    \"local_tsv\": \"../test_data/datasets/Austen_valid_headers.tsv\",\n",
    "    \"local_tsv_no_headers\": \"../test_data/datasets/Austen.tsv\",\n",
    "    \"local_tsv_invalid\": \"../test_data/datasets/Austen_invalid_headers.tsv\",\n",
    "    \"local_json\": \"../test_data/datasets/Austen.json\",\n",
    "    \"local_jsonl\": \"../test_data/datasets/Austen_nl.jsonl\",\n",
    "    \"local_json_invalid\": \"../test_data/datasets/Austen_invalid_fields.json\",\n",
    "    \"zipped_lineated_text\": \"../test_data/datasets/lineated_text.zip\"\n",
    "}\n",
    "\n",
    "source = dataset_types[\"raw_str_no_headers\"]"
   ]
  },
  {
   "cell_type": "code",
   "execution_count": 7,
   "id": "6956ef98-7c51-4d7f-b4c3-02eff17948f0",
   "metadata": {},
   "outputs": [
    {
     "data": {
      "text/plain": [
       "['Test1', 'Test2']"
      ]
     },
     "execution_count": 7,
     "metadata": {},
     "output_type": "execute_result"
    }
   ],
   "source": [
    "dataset_loader = DatasetLoader(source, labels=[\"text1\", \"text2\"])\n",
    "print(datase_loader.data.texts)\n",
    "\n",
    "dataset = Dataset.parse_string(source, labels=[\"text1\", \"text2\"])\n",
    "print(dataset.texts)"
   ]
  },
  {
   "cell_type": "code",
   "execution_count": null,
   "id": "5df2510f-f65d-448f-80c4-8fc600b282aa",
   "metadata": {},
   "outputs": [],
   "source": []
  }
 ],
 "metadata": {
  "kernelspec": {
   "display_name": "Lexos",
   "language": "python",
   "name": "lexos"
  },
  "language_info": {
   "codemirror_mode": {
    "name": "ipython",
    "version": 3
   },
   "file_extension": ".py",
   "mimetype": "text/x-python",
   "name": "python",
   "nbconvert_exporter": "python",
   "pygments_lexer": "ipython3",
   "version": "3.9.12"
  }
 },
 "nbformat": 4,
 "nbformat_minor": 5
}
