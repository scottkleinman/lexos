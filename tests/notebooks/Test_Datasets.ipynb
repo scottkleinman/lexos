{
 "cells": [
  {
   "cell_type": "markdown",
   "id": "cdb8e213-bdf2-4a9d-8a62-32e0dcda5487",
   "metadata": {},
   "source": [
    "# Test the Datasets Class"
   ]
  },
  {
   "cell_type": "markdown",
   "id": "330333ef-9a5b-4a6a-a94b-f11d555d43d8",
   "metadata": {},
   "source": [
    "Import the Lexos API classes and define the paths to available test datasets. Also define some labels for the texts available in all of the test datasets."
   ]
  },
  {
   "cell_type": "code",
   "execution_count": 1,
   "id": "a5a5dd11-6fee-45f6-9586-3d531a489982",
   "metadata": {},
   "outputs": [],
   "source": [
    "from lexos.io.dataset import Dataset, DatasetLoader\n",
    "from lexos.io.smart import Loader\n",
    "\n",
    "dataset_types = {\n",
    "    \"raw_str_no_headers\": \"Test1\\nTest2\",\n",
    "    \"local_path\": \"../test_data/datasets/base.txt\",\n",
    "    \"local_csv_valid\": \"../test_data/datasets/csv_valid.csv\",\n",
    "    \"local_tsv_valid\": \"../test_data/datasets/csv_valid.tsv\",\n",
    "    \"local_json_valid\": \"../test_data/datasets/json_valid.json\",\n",
    "    \"local_jsonl_valid\": \"../test_data/datasets/jsonl_valid.jsonl\",\n",
    "    \"local_excel_valid\": \"../test_data/datasets/excel_valid.xlsx\",\n",
    "    \"local_csv_invalid\": \"../test_data/datasets/csv_invalid.csv\",\n",
    "    \"local_tsv_invalid\": \"../test_data/datasets/csv_invalid.tsv\",\n",
    "    \"local_json_invalid\": \"../test_data/datasets/json_invalid.json\",\n",
    "    \"local_jsonl_invalid\": \"../test_data/datasets/jsonl_invalid.jsonl\",\n",
    "    \"local_excel_invalid\": \"../test_data/datasets/excel_invalid.xlsx\",\n",
    "    \"local_zip_csv_valid_short\": \"../test_data/datasets/csv_valid_short.zip\",\n",
    "    \"local_dir_csv_valid\": \"../test_data/datasets/dir_csv_valid\",\n",
    "    \"remote_csv_valid\": \"https://github.com/scottkleinman/lexos/raw/main/tests/test_data/datasets/csv_valid.csv\",\n",
    "    \"remote_dir_csv_valid\": \"https://github.com/scottkleinman/lexos/tree/main/tests/test_data/datasets/dir_csv_valid\"\n",
    "}\n",
    "\n",
    "LABELS = [\n",
    "    \"Ainsworth_Guy_Fawkes\",\n",
    "    \"Ainsworth_Lancashire_Witches\",\n",
    "    \"Ainsworth_Old_Saint_Pauls\",\n",
    "    \"Ainsworth_Tower_of_London\",\n",
    "    \"Ainsworth_Windsor_Castle\"\n",
    "]"
   ]
  },
  {
   "cell_type": "markdown",
   "id": "3c24521a-fc41-49d6-b637-89912f58d5f1",
   "metadata": {},
   "source": [
    "In the cell below, select the name of the dataset to test."
   ]
  },
  {
   "cell_type": "code",
   "execution_count": 2,
   "id": "ba507913-3ca4-4998-a420-4aa55e163440",
   "metadata": {},
   "outputs": [],
   "source": [
    "source = dataset_types[\"local_csv_valid\"]"
   ]
  },
  {
   "cell_type": "markdown",
   "id": "d9cf7f1c-ae0f-4fe7-9ee9-16026b266fd3",
   "metadata": {},
   "source": [
    "### Test the `Dataset` Class\n",
    "\n",
    "Note that you may need to change the constructor method or arguments, depending on the format of the source data you are using."
   ]
  },
  {
   "cell_type": "code",
   "execution_count": 3,
   "id": "6956ef98-7c51-4d7f-b4c3-02eff17948f0",
   "metadata": {},
   "outputs": [
    {
     "name": "stdout",
     "output_type": "stream",
     "text": [
      "Ainsworth_Guy_Fawkes: ﻿The Project Gutenberg EBook of Guy Fawkes, by Wil...\n",
      "Ainsworth_Lancashire_Witches: ﻿Project Gutenberg's The Lancashire Witches, by Wi...\n",
      "Ainsworth_Old_Saint_Pauls: ﻿Project Gutenberg's Old Saint Paul's, by William ...\n",
      "Ainsworth_Tower_of_London: ﻿ Project Gutenberg's The Tower of London, by Will...\n",
      "Ainsworth_Windsor_Castle: ﻿The Project Gutenberg EBook of Windsor Castle, by...\n"
     ]
    }
   ],
   "source": [
    "# dataset = Dataset.parse_string(source, labels=LABELS)\n",
    "dataset = Dataset.parse_csv(source)\n",
    "for item in dataset:\n",
    "    print(f\"{item['title']}: {item['text'][0:50]}...\")"
   ]
  },
  {
   "cell_type": "markdown",
   "id": "3c378617-4765-4800-a151-885898db8caf",
   "metadata": {},
   "source": [
    "### Test the `DatasetLoader` Class\n",
    "\n",
    "Note that you may need to change the arguments, depending on the format of the source data you are using."
   ]
  },
  {
   "cell_type": "code",
   "execution_count": 4,
   "id": "5df2510f-f65d-448f-80c4-8fc600b282aa",
   "metadata": {},
   "outputs": [
    {
     "name": "stdout",
     "output_type": "stream",
     "text": [
      "Ainsworth_Guy_Fawkes: ﻿The Project Gutenberg EBook of Guy Fawkes, by Wil...\n",
      "Ainsworth_Lancashire_Witches: ﻿Project Gutenberg's The Lancashire Witches, by Wi...\n",
      "Ainsworth_Old_Saint_Pauls: ﻿Project Gutenberg's Old Saint Paul's, by William ...\n",
      "Ainsworth_Tower_of_London: ﻿ Project Gutenberg's The Tower of London, by Will...\n",
      "Ainsworth_Windsor_Castle: ﻿The Project Gutenberg EBook of Windsor Castle, by...\n"
     ]
    }
   ],
   "source": [
    "# loader = DatasetLoader(source, labels=LABELS)\n",
    "loader = DatasetLoader(source)\n",
    "for item in loader: \n",
    "    print(f\"{item['title']}: {item['text'][0:50]}...\")"
   ]
  },
  {
   "cell_type": "markdown",
   "id": "6bf2d961-0644-4133-8b80-8d2dd1615dcc",
   "metadata": {},
   "source": [
    "### Display Object Properties\n",
    "\n",
    "Using `Dataset`:"
   ]
  },
  {
   "cell_type": "code",
   "execution_count": 5,
   "id": "8411f03e-9efb-496e-8d45-b6dcf40354b6",
   "metadata": {},
   "outputs": [
    {
     "name": "stdout",
     "output_type": "stream",
     "text": [
      "Dataset Names:\n",
      "['Ainsworth_Guy_Fawkes', 'Ainsworth_Lancashire_Witches', 'Ainsworth_Old_Saint_Pauls', 'Ainsworth_Tower_of_London', 'Ainsworth_Windsor_Castle']\n",
      "\n",
      "Dataset Excerpts:\n",
      "['\\ufeffThe Project Gutenberg EBook of Guy Fawkes, by...', \"\\ufeffProject Gutenberg's The Lancashire Witches, b...\", \"\\ufeffProject Gutenberg's Old Saint Paul's, by Will...\", \"\\ufeff Project Gutenberg's The Tower of London, by ...\", '\\ufeffThe Project Gutenberg EBook of Windsor Castle...']\n",
      "\n",
      "Export to Pandas Dataframe:\n"
     ]
    },
    {
     "data": {
      "text/html": [
       "<div>\n",
       "<style scoped>\n",
       "    .dataframe tbody tr th:only-of-type {\n",
       "        vertical-align: middle;\n",
       "    }\n",
       "\n",
       "    .dataframe tbody tr th {\n",
       "        vertical-align: top;\n",
       "    }\n",
       "\n",
       "    .dataframe thead th {\n",
       "        text-align: right;\n",
       "    }\n",
       "</style>\n",
       "<table border=\"1\" class=\"dataframe\">\n",
       "  <thead>\n",
       "    <tr style=\"text-align: right;\">\n",
       "      <th></th>\n",
       "      <th>title</th>\n",
       "      <th>text</th>\n",
       "    </tr>\n",
       "  </thead>\n",
       "  <tbody>\n",
       "    <tr>\n",
       "      <th>0</th>\n",
       "      <td>Ainsworth_Guy_Fawkes</td>\n",
       "      <td>﻿The Project Gutenberg EBook of Guy Fawkes, by...</td>\n",
       "    </tr>\n",
       "    <tr>\n",
       "      <th>1</th>\n",
       "      <td>Ainsworth_Lancashire_Witches</td>\n",
       "      <td>﻿Project Gutenberg's The Lancashire Witches, b...</td>\n",
       "    </tr>\n",
       "    <tr>\n",
       "      <th>2</th>\n",
       "      <td>Ainsworth_Old_Saint_Pauls</td>\n",
       "      <td>﻿Project Gutenberg's Old Saint Paul's, by Will...</td>\n",
       "    </tr>\n",
       "    <tr>\n",
       "      <th>3</th>\n",
       "      <td>Ainsworth_Tower_of_London</td>\n",
       "      <td>﻿ Project Gutenberg's The Tower of London, by ...</td>\n",
       "    </tr>\n",
       "    <tr>\n",
       "      <th>4</th>\n",
       "      <td>Ainsworth_Windsor_Castle</td>\n",
       "      <td>﻿The Project Gutenberg EBook of Windsor Castle...</td>\n",
       "    </tr>\n",
       "  </tbody>\n",
       "</table>\n",
       "</div>"
      ],
      "text/plain": [
       "                          title  \\\n",
       "0          Ainsworth_Guy_Fawkes   \n",
       "1  Ainsworth_Lancashire_Witches   \n",
       "2     Ainsworth_Old_Saint_Pauls   \n",
       "3     Ainsworth_Tower_of_London   \n",
       "4      Ainsworth_Windsor_Castle   \n",
       "\n",
       "                                                text  \n",
       "0  ﻿The Project Gutenberg EBook of Guy Fawkes, by...  \n",
       "1  ﻿Project Gutenberg's The Lancashire Witches, b...  \n",
       "2  ﻿Project Gutenberg's Old Saint Paul's, by Will...  \n",
       "3  ﻿ Project Gutenberg's The Tower of London, by ...  \n",
       "4  ﻿The Project Gutenberg EBook of Windsor Castle...  "
      ]
     },
     "metadata": {},
     "output_type": "display_data"
    }
   ],
   "source": [
    "print(\"Dataset Names:\")\n",
    "print(dataset.names)\n",
    "\n",
    "print()\n",
    "\n",
    "print(\"Dataset Excerpts:\")\n",
    "print([f\"{x[0:46]}...\" for x in dataset.texts])\n",
    "\n",
    "print()\n",
    "\n",
    "print(\"Export to Pandas Dataframe:\")\n",
    "display(dataset.df().head())"
   ]
  },
  {
   "cell_type": "markdown",
   "id": "4b76e41f-74b1-4d4f-90a5-32f827c440ad",
   "metadata": {},
   "source": [
    "Using `DatasetLoader`:"
   ]
  },
  {
   "cell_type": "code",
   "execution_count": 6,
   "id": "ed5574d7-9098-4d6c-986b-60ba377c55aa",
   "metadata": {},
   "outputs": [
    {
     "name": "stdout",
     "output_type": "stream",
     "text": [
      "Loader Names:\n",
      "['Ainsworth_Guy_Fawkes', 'Ainsworth_Lancashire_Witches', 'Ainsworth_Old_Saint_Pauls', 'Ainsworth_Tower_of_London', 'Ainsworth_Windsor_Castle']\n",
      "\n",
      "Loader Excerpts:\n",
      "['\\ufeffThe Project Gutenberg EBook of Guy Fawkes, by...', \"\\ufeffProject Gutenberg's The Lancashire Witches, b...\", \"\\ufeffProject Gutenberg's Old Saint Paul's, by Will...\", \"\\ufeff Project Gutenberg's The Tower of London, by ...\", '\\ufeffThe Project Gutenberg EBook of Windsor Castle...']\n",
      "\n",
      "Export to Pandas Dataframe:\n"
     ]
    },
    {
     "data": {
      "text/html": [
       "<div>\n",
       "<style scoped>\n",
       "    .dataframe tbody tr th:only-of-type {\n",
       "        vertical-align: middle;\n",
       "    }\n",
       "\n",
       "    .dataframe tbody tr th {\n",
       "        vertical-align: top;\n",
       "    }\n",
       "\n",
       "    .dataframe thead th {\n",
       "        text-align: right;\n",
       "    }\n",
       "</style>\n",
       "<table border=\"1\" class=\"dataframe\">\n",
       "  <thead>\n",
       "    <tr style=\"text-align: right;\">\n",
       "      <th></th>\n",
       "      <th>title</th>\n",
       "      <th>text</th>\n",
       "    </tr>\n",
       "  </thead>\n",
       "  <tbody>\n",
       "    <tr>\n",
       "      <th>0</th>\n",
       "      <td>Ainsworth_Guy_Fawkes</td>\n",
       "      <td>﻿The Project Gutenberg EBook of Guy Fawkes, by...</td>\n",
       "    </tr>\n",
       "    <tr>\n",
       "      <th>1</th>\n",
       "      <td>Ainsworth_Lancashire_Witches</td>\n",
       "      <td>﻿Project Gutenberg's The Lancashire Witches, b...</td>\n",
       "    </tr>\n",
       "    <tr>\n",
       "      <th>2</th>\n",
       "      <td>Ainsworth_Old_Saint_Pauls</td>\n",
       "      <td>﻿Project Gutenberg's Old Saint Paul's, by Will...</td>\n",
       "    </tr>\n",
       "    <tr>\n",
       "      <th>3</th>\n",
       "      <td>Ainsworth_Tower_of_London</td>\n",
       "      <td>﻿ Project Gutenberg's The Tower of London, by ...</td>\n",
       "    </tr>\n",
       "    <tr>\n",
       "      <th>4</th>\n",
       "      <td>Ainsworth_Windsor_Castle</td>\n",
       "      <td>﻿The Project Gutenberg EBook of Windsor Castle...</td>\n",
       "    </tr>\n",
       "  </tbody>\n",
       "</table>\n",
       "</div>"
      ],
      "text/plain": [
       "                          title  \\\n",
       "0          Ainsworth_Guy_Fawkes   \n",
       "1  Ainsworth_Lancashire_Witches   \n",
       "2     Ainsworth_Old_Saint_Pauls   \n",
       "3     Ainsworth_Tower_of_London   \n",
       "4      Ainsworth_Windsor_Castle   \n",
       "\n",
       "                                                text  \n",
       "0  ﻿The Project Gutenberg EBook of Guy Fawkes, by...  \n",
       "1  ﻿Project Gutenberg's The Lancashire Witches, b...  \n",
       "2  ﻿Project Gutenberg's Old Saint Paul's, by Will...  \n",
       "3  ﻿ Project Gutenberg's The Tower of London, by ...  \n",
       "4  ﻿The Project Gutenberg EBook of Windsor Castle...  "
      ]
     },
     "metadata": {},
     "output_type": "display_data"
    }
   ],
   "source": [
    "print(\"Loader Names:\")\n",
    "print(loader.names)\n",
    "\n",
    "print()\n",
    "\n",
    "print(\"Loader Excerpts:\")\n",
    "print([f\"{x[0:46]}...\" for x in loader.texts])\n",
    "\n",
    "print()\n",
    "\n",
    "print(\"Export to Pandas Dataframe:\")\n",
    "display(dataset.df().head())"
   ]
  },
  {
   "cell_type": "markdown",
   "id": "7454c4bc-3e04-49ff-91c9-a1385e6ded49",
   "metadata": {},
   "source": [
    "### Add Datasets to a Standard Loader\n",
    "\n",
    "The example below uses the `dataset` and `loader` variables defined in the cells above."
   ]
  },
  {
   "cell_type": "code",
   "execution_count": null,
   "id": "7a984d0d-7d24-426f-8c46-7eaad36d600b",
   "metadata": {},
   "outputs": [],
   "source": [
    "standard_loader = Loader()\n",
    "\n",
    "# From a `Dataset`\n",
    "standard_loader.texts = dataset.texts\n",
    "standard_loader.names = dataset.names\n",
    "\n",
    "# From a `DatasetLoader`\n",
    "standard_loader.texts = loader.texts\n",
    "standard_loader.names = loader.names\n"
   ]
  }
 ],
 "metadata": {
  "kernelspec": {
   "display_name": "Lexos",
   "language": "python",
   "name": "lexos"
  },
  "language_info": {
   "codemirror_mode": {
    "name": "ipython",
    "version": 3
   },
   "file_extension": ".py",
   "mimetype": "text/x-python",
   "name": "python",
   "nbconvert_exporter": "python",
   "pygments_lexer": "ipython3",
   "version": "3.9.12"
  }
 },
 "nbformat": 4,
 "nbformat_minor": 5
}
