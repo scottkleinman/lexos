{
 "cells": [
  {
   "cell_type": "markdown",
   "metadata": {},
   "source": [
    "# Test Tokenizer\n",
    "   \n",
    "This notebook is to show examples of how to use the `tokenizer`"
   ]
  },
  {
   "cell_type": "markdown",
   "metadata": {},
   "source": [
    "## Add Lexos to the Jupyter `sys.path`"
   ]
  },
  {
   "cell_type": "code",
   "execution_count": 1,
   "metadata": {},
   "outputs": [
    {
     "name": "stdout",
     "output_type": "stream",
     "text": [
      "System path set to `../../../lexos`.\n"
     ]
    }
   ],
   "source": [
    "%run jupyter_local_setup.py ../../../lexos"
   ]
  },
  {
   "cell_type": "markdown",
   "metadata": {},
   "source": [
    "## Import Lexos Modules"
   ]
  },
  {
   "cell_type": "code",
   "execution_count": 2,
   "metadata": {},
   "outputs": [],
   "source": [
    "from lexos.cutter import Ginsu\n",
    "from lexos.cutter import Machete\n",
    "from lexos import tokenizer\n",
    "from lexos.io.smart import Loader"
   ]
  },
  {
   "cell_type": "markdown",
   "metadata": {},
   "source": [
    "## Load data"
   ]
  },
  {
   "cell_type": "code",
   "execution_count": 21,
   "metadata": {},
   "outputs": [],
   "source": [
    "data = \"../test_data/txt/Austen_Pride.txt\"\n",
    "loader = Loader()\n",
    "loader.load(data)\n",
    "dataDoc = tokenizer.make_doc(loader.texts[0],model=\"en_core_web_sm\")"
   ]
  },
  {
   "cell_type": "markdown",
   "metadata": {},
   "source": [
    "## Cutting with Ginsu\n",
    "Ginsu is used for cutting docs"
   ]
  },
  {
   "cell_type": "markdown",
   "metadata": {},
   "source": [
    "### Ginsu split_doc()\n",
    "Splits doc by segmenting it into sections of n tokens"
   ]
  },
  {
   "cell_type": "code",
   "execution_count": 61,
   "metadata": {},
   "outputs": [],
   "source": [
    "cutter = Ginsu()\n",
    "pride_segments = cutter.split_doc(dataDoc,n=7500) #returns a list of docs\n",
    "#arguments:\n",
    "#doc = doc to be split\n",
    "#n = number of tokens per segment (default = 1000)\n",
    "#merge_threshold (float) = percentage of n tokens below which the last segment will be merged (default = 0.5)\n",
    "#overlap (int) = number of tokens to overlap (default = 0)\n"
   ]
  },
  {
   "cell_type": "markdown",
   "metadata": {},
   "source": [
    "### Ginsu split()\n",
    "Functions the same as split_doc() except it takes a list of docs and returns a list of lists of docs"
   ]
  },
  {
   "cell_type": "markdown",
   "metadata": {},
   "source": [
    "### Ginsu splitn()\n",
    "split a list of docs by desired number of segments"
   ]
  },
  {
   "cell_type": "code",
   "execution_count": 19,
   "metadata": {},
   "outputs": [
    {
     "data": {
      "text/plain": [
       "10"
      ]
     },
     "execution_count": 19,
     "metadata": {},
     "output_type": "execute_result"
    }
   ],
   "source": [
    "pride_segments = cutter.splitn([dataDoc],n=10) #returns a list of lists of docs\n",
    "#n = number of segments to make\n",
    "#has the same additional arguments as split())"
   ]
  },
  {
   "cell_type": "markdown",
   "metadata": {},
   "source": [
    "## Cutting with Machete\n",
    "Machete is used for cutting texts"
   ]
  },
  {
   "cell_type": "markdown",
   "metadata": {},
   "source": [
    "### Machete split()"
   ]
  },
  {
   "cell_type": "code",
   "execution_count": 60,
   "metadata": {},
   "outputs": [],
   "source": [
    "cutter = Machete()\n",
    "dataText = loader.texts[0]\n",
    "segments = cutter.split(dataText,n= 7500) #returns a list of str lists\n",
    "#Accepts a text or list of texts to cut\n",
    "#Contains the same extra arguments as Ginsu.split() with two additional arguments\n",
    "#tokenizer (str) = The name of the tokenizer function to use (default = none)\n",
    "#as_string (bool) = whether to return the segments as a list of strings (default = True)"
   ]
  },
  {
   "cell_type": "markdown",
   "metadata": {},
   "source": [
    "### Machete splitn()\n",
    "split a list of texts by desired number of segments"
   ]
  },
  {
   "cell_type": "code",
   "execution_count": 57,
   "metadata": {},
   "outputs": [
    {
     "name": "stdout",
     "output_type": "stream",
     "text": [
      "10\n"
     ]
    }
   ],
   "source": [
    "segments = cutter.splitn(dataText,n= 10) #returns a list of str lists\n",
    "print(len(segments[0]))"
   ]
  }
 ],
 "metadata": {
  "kernelspec": {
   "display_name": "Python 3.9.12 ('base')",
   "language": "python",
   "name": "python3"
  },
  "language_info": {
   "codemirror_mode": {
    "name": "ipython",
    "version": 3
   },
   "file_extension": ".py",
   "mimetype": "text/x-python",
   "name": "python",
   "nbconvert_exporter": "python",
   "pygments_lexer": "ipython3",
   "version": "3.9.12"
  },
  "orig_nbformat": 4,
  "vscode": {
   "interpreter": {
    "hash": "c1a182fbbe39991ab3c9f482a16703f4da6dfd24ce0191d5b4794b62c97dd21c"
   }
  }
 },
 "nbformat": 4,
 "nbformat_minor": 2
}
