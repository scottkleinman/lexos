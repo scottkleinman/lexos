{
 "cells": [
  {
   "cell_type": "code",
   "execution_count": 52,
   "id": "fa9d5b07-2bae-46af-b7f0-c8ec69a75c12",
   "metadata": {},
   "outputs": [
    {
     "name": "stdout",
     "output_type": "stream",
     "text": [
      "Extract of first text:\n",
      "\n",
      "Elizabeth Needham (died 3 May 1731), also known as Mother Needham, was an English procuress and brothel-keeper of 18th-century London, who has been identified as the bawd greeting Moll Hackabout in the first plate of William Hogarth's series of satirical etchings, A Harlot's Progress. Although Needham was notorious in London at the time, little is recorded of her life, and no genuine portraits of her survive. Her house was the most exclusive in London and her customers came from the highest strata of fashionable society, but she eventually crossed the moral reformers of the day and died as a result of the severe treatment she received after being sentenced to stand in the pillory.\n",
      "\n"
     ]
    }
   ],
   "source": [
    "# Configuration\n",
    "data_path = \"C:/mallet/mallet-2.0.8/sample-data/web/en\"\n",
    "model_dir = \"topic_model\"\n",
    "\n",
    "# Python and Lexos imports\n",
    "import os\n",
    "import shlex\n",
    "from subprocess import PIPE, STDOUT, CalledProcessError, Popen, check_output\n",
    "from wasabi import Printer\n",
    "from lexos.io.smart import Loader\n",
    "from lexos import tokenizer\n",
    "from lexos.topic_model.mallet import Mallet\n",
    "\n",
    "# Make the model directory if it doesn't exist\n",
    "if not os.path.exists(model_dir):\n",
    "    os.mkdir(model_dir)\n",
    "\n",
    "# Load the data\n",
    "loader = Loader()\n",
    "loader.load(data_path)\n",
    "print(\"Extract of first text:\\n\")\n",
    "print(loader.texts[0][0:1245])"
   ]
  },
  {
   "cell_type": "code",
   "execution_count": 91,
   "id": "edc04ad2-d1bf-4964-ba52-3e3ee729e776",
   "metadata": {},
   "outputs": [
    {
     "data": {
      "text/plain": [
       "\u001b[1;31mType:\u001b[0m        list\n",
       "\u001b[1;31mString form:\u001b[0m [\"Elizabeth Needham (died 3 May 1731), also known as Mother Needham, was an English procuress and <...> riend Ness Wadia she is a co-owner of the Indian Premier League cricket team Kings XI Punjab.\\n']\n",
       "\u001b[1;31mLength:\u001b[0m      12\n",
       "\u001b[1;31mDocstring:\u001b[0m  \n",
       "Built-in mutable sequence.\n",
       "\n",
       "If no argument is given, the constructor creates a new empty list.\n",
       "The argument must be an iterable if specified.\n"
      ]
     },
     "metadata": {},
     "output_type": "display_data"
    }
   ],
   "source": [
    "?loader.texts\n",
    "# Hit 00 to restart the kernel"
   ]
  },
  {
   "cell_type": "code",
   "execution_count": 75,
   "id": "67eebe65-8218-4c83-b2ef-8f66b319cdd5",
   "metadata": {},
   "outputs": [],
   "source": [
    "docs = tokenizer.make_docs(\n",
    "    loader.texts,\n",
    "    model=\"en_core_web_sm\",\n",
    "    add_stopwords=[\"gorillas\"]\n",
    ")\n",
    "\n",
    "for i, doc in enumerate(docs):\n",
    "    tokens = [token.text for token in doc if token.pos_ == \"ADJ\" or token.pos_ == \"NOUN\"]\n",
    "    with open(f\"data_files/doc{i}\", \"w\") as f:\n",
    "        f.write(\" \".join(tokens))\n"
   ]
  },
  {
   "cell_type": "code",
   "execution_count": 70,
   "id": "e807c291-df2b-4fb0-afb7-7b467261fd92",
   "metadata": {},
   "outputs": [
    {
     "name": "stdout",
     "output_type": "stream",
     "text": [
      "Bagifying data...\n",
      "Running C:/mallet/mallet-2.0.8/bin/mallet import-file --input\n",
      "topic_model/data.txt --output topic_model/import.mallet --keep-sequence\n",
      "--preserve-case --token-regex \"\\S+\"\n",
      "✔ Import complete.\n"
     ]
    }
   ],
   "source": [
    "model = Mallet(\n",
    "    model_dir=model_dir,\n",
    "    mallet_path=\"C:/mallet/mallet-2.0.8/bin\"\n",
    ")\n",
    "model.import_data(docs, allowed=[\"ADJ\", \"NOUN\"])"
   ]
  },
  {
   "cell_type": "code",
   "execution_count": 84,
   "id": "d5012165-fe0e-4ce5-abac-84baafac1402",
   "metadata": {},
   "outputs": [
    {
     "name": "stdout",
     "output_type": "stream",
     "text": [
      "Running C:/mallet/mallet-2.0.8/bin/mallet import-file --input\n",
      "topic_model/data.txt --output topic_model/import.mallet --keep-sequence\n",
      "--preserve-case --token-regex \"\\S+\"\n",
      "✔ Import complete.\n"
     ]
    }
   ],
   "source": [
    "mallet_cmd = f\"C:/mallet/mallet-2.0.8/bin/mallet import-file --input topic_model/data.txt --output topic_model/import.mallet\"\n",
    "# mallet_cmd = f\"C:/mallet/mallet-2.0.8/bin/mallet import-dir --input data_files --output topic_model/import.mallet\"\n",
    "mallet_cmd += \" --keep-sequence\"\n",
    "mallet_cmd += \" --preserve-case\"\n",
    "mallet_cmd += ' --token-regex \"\\S+\"'\n",
    "# mallet_cmd += \" --remove-stopwords\"\n",
    "\n",
    "msg = Printer()\n",
    "msg.text(f\"Running {mallet_cmd}\")\n",
    "mallet_cmd = shlex.split(mallet_cmd)\n",
    "# Perform the import\n",
    "try:\n",
    "    # shell=True required to handle backslashes in token-regex\n",
    "    output = check_output(mallet_cmd, stderr=STDOUT, shell=True, universal_newlines=True)\n",
    "    msg.good(\"Import complete.\")\n",
    "except CalledProcessError as e:\n",
    "    output = e.output#.decode()\n",
    "    msg.fail(output)"
   ]
  },
  {
   "cell_type": "code",
   "execution_count": 85,
   "id": "f24c5d7e-3418-47a5-b714-b4aa70a58a0b",
   "metadata": {},
   "outputs": [],
   "source": [
    "%%capture\n",
    "\n",
    "cmd = \"C:/mallet/mallet-2.0.8/bin/mallet train-topics --input topic_model/import.mallet --num-topics 20 --num-iterations 1000 --optimize-interval 10 --output-state topic_model/state.gz --output-topic-keys topic_model/keys.txt --output-doc-topics topic_model/composition.txt --word-topic-counts-file topic_model/counts.txt --output-topic-docs topic_model/topic-docs.txt --diagnostics-file topic_model/diagnostics.xml\"\n",
    "cmd = shlex.split(cmd)\n",
    "try:\n",
    "    output = check_output(cmd, stderr=STDOUT, shell=True, universal_newlines=True)\n",
    "    msg.good(\"Training complete.\")\n",
    "except CalledProcessError as e:\n",
    "    output = e.output#.decode()\n",
    "    msg.fail(output)"
   ]
  },
  {
   "cell_type": "code",
   "execution_count": 60,
   "id": "5a5f0fd6-796b-4343-a3f5-5a965a724a17",
   "metadata": {},
   "outputs": [
    {
     "name": "stdout",
     "output_type": "stream",
     "text": [
      "Running C:/mallet/mallet-2.0.8/bin/mallet train-topics --input\n",
      "topic_model/import.mallet --num-topics 20 --num-iterations 1000\n",
      "--optimize-interval 10 --output-state topic_model/state.gz --output-topic-keys\n",
      "topic_model/keys.txt --output-doc-topics topic_model/composition.txt\n",
      "--word-topic-counts-file topic_model/counts.txt --output-topic-docs\n",
      "topic_model/topic-docs.txt --diagnostics-file topic_model/diagnostics.xml\n",
      "Mallet LDA: 20 topics, 5 topic bits, 11111 topic mask\n",
      "Data loaded.\n",
      "Topic modeling currently only supports feature sequences: use --keep-sequence option when importing data.\n"
     ]
    }
   ],
   "source": [
    "%%capture\n",
    "model.train()"
   ]
  },
  {
   "cell_type": "code",
   "execution_count": null,
   "id": "d3b9243d-3faa-46f4-bca1-4e389236f160",
   "metadata": {},
   "outputs": [],
   "source": []
  }
 ],
 "metadata": {
  "kernelspec": {
   "display_name": "Python 3 (ipykernel)",
   "language": "python",
   "name": "python3"
  },
  "language_info": {
   "codemirror_mode": {
    "name": "ipython",
    "version": 3
   },
   "file_extension": ".py",
   "mimetype": "text/x-python",
   "name": "python",
   "nbconvert_exporter": "python",
   "pygments_lexer": "ipython3",
   "version": "3.9.12"
  }
 },
 "nbformat": 4,
 "nbformat_minor": 5
}
