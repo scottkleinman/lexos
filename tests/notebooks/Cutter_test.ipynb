{
 "cells": [
  {
   "cell_type": "code",
   "execution_count": 6,
   "id": "8b505ad6-2421-4f97-8f1b-78f81293e57f",
   "metadata": {},
   "outputs": [
    {
     "name": "stdout",
     "output_type": "stream",
     "text": [
      "Done!\n"
     ]
    }
   ],
   "source": [
    "from lexos.io.smart import Loader\n",
    "from lexos import tokenizer\n",
    "from lexos.cutter.ginsu import Ginsu\n",
    "from lexos.cutter.machete import Machete\n",
    "machete = Machete()\n",
    "# ginsu = Ginsu()\n",
    "\n",
    "# data = \"../test_data/txt/Austen_Pride_sm.txt\"\n",
    "# loader = Loader()\n",
    "# loader.load(data)\n",
    "# text1 = loader.texts[0][:500]\n",
    "# text2 = loader.texts[0][501:1000]\n",
    "# token_list = text.split()\n",
    "# token_list\n",
    "# text\n",
    "# doc = tokenizer.make_doc(text1, model=\"en_core_web_sm\")\n",
    "# doc2 = tokenizer.make_doc(text2)\n",
    "# print(type(doc))\n",
    "# print(f\"{len(doc)} tokens in doc\")\n",
    "print(\"Done!\")"
   ]
  },
  {
   "cell_type": "code",
   "execution_count": 1,
   "id": "855f65f7-98d2-4dea-a56d-9287a18281a4",
   "metadata": {},
   "outputs": [],
   "source": [
    "# input = [text1]\n",
    "# print(input)\n",
    "from lexos.cutter.machete import Machete\n",
    "machete = Machete()\n",
    "input = [' Pride and Prejudice\\nby Jane Austen\\nChapter 1\\nIt is a truth universally acknowledged, that a single man in possession of a good fortune, must be in want of a wife.\\nHowever little known the feelings or views of such a man may be on his first entering a neighbourhood, this truth is so well fixed in the minds of the surrounding families, that he is considered the rightful property of some one or other of their daughters.\\n\"My dear Mr. Bennet,\" said his lady to him one day, \"have you heard that Nethe']"
   ]
  },
  {
   "cell_type": "code",
   "execution_count": 4,
   "id": "5670e03d-e69b-4ce1-991f-fa4f2b9372d8",
   "metadata": {},
   "outputs": [
    {
     "name": "stdout",
     "output_type": "stream",
     "text": [
      "=======================\n",
      "text1\n",
      "seg1\n",
      "['It ', 'is ', 'a ', 'truth ', 'universally ', 'acknowledged, ', 'that ', 'a ', 'single ', 'man\\n    ', 'in ', 'possession ']\n",
      "\n",
      "seg2\n",
      "['of ', 'a ', 'good ', 'fortune, ', 'must ', 'be ', 'in ', 'want ', 'of ', 'a ', 'wife.\\n']\n",
      "\n",
      "\n",
      "\n"
     ]
    }
   ],
   "source": [
    "# text_segs = machete.split_list(texts=text1.split(), n=20, overlap=5)\n",
    "# text_segs = machete.split(texts=[text1, text2], n=20, overlap=5)\n",
    "text = \"\"\"\n",
    "    It is a truth universally acknowledged, that a single man\n",
    "    in possession of a good fortune, must be in want of a wife.\n",
    "\"\"\"\n",
    "\n",
    "text_segs = machete.splitn(texts=text, n=2, as_string=False)\n",
    "# print(input)\n",
    "# print()\n",
    "# text_segs = machete.split_on_milestones(input, milestone=\"s.ngle\", preserve_milestones=False)\n",
    "# print(text_segs)\n",
    "# doc_segs = ginsu.splitn(input, n=3)\n",
    "# doc_segs = ginsu.split(input, n=50)\n",
    "# doc_segs = ginsu.split_on_milestones(doc=doc, milestone={\"pos_\": ([\"NOUN\"], \"in\")})\n",
    "\n",
    "\n",
    "print(\"=======================\")\n",
    "if isinstance(input, list):\n",
    "    for i, text in enumerate(text_segs):\n",
    "        print(f\"text{i+1}\")\n",
    "        for j, seg in enumerate(text):\n",
    "            print(f\"seg{j+1}\")\n",
    "            print(seg)\n",
    "            print()\n",
    "        print()\n",
    "        print()\n",
    "else:\n",
    "    for seg in text_segs:\n",
    "        print(seg)\n",
    "        print(\"==============================\")\n",
    "\n",
    "# if isinstance(input, list):\n",
    "#     for i, doc_item in enumerate(doc_segs):\n",
    "#         print(f\"doc{i+1}\")\n",
    "#         for j, seg in enumerate(doc_item):\n",
    "#             print(f\"seg{j+1}\")\n",
    "#             print(seg)\n",
    "#             print()\n",
    "#         print()\n",
    "#         print()\n",
    "# else:\n",
    "#     for seg in doc_segs:\n",
    "#         print(seg)\n",
    "#         print(\"==============================\") "
   ]
  },
  {
   "cell_type": "code",
   "execution_count": 4,
   "id": "58ab61fe-2b04-45ee-a626-a25986ea711e",
   "metadata": {},
   "outputs": [
    {
     "data": {
      "text/plain": [
       "2390"
      ]
     },
     "execution_count": 4,
     "metadata": {},
     "output_type": "execute_result"
    }
   ],
   "source": [
    "text1\n",
    "seg1\n",
    "It is a truth universally acknowledged, that a single man\n",
    "    in possession \n",
    "\n",
    "seg2\n",
    "of a good fortune, must be in want of a wife."
   ]
  },
  {
   "cell_type": "code",
   "execution_count": 11,
   "id": "235f9240-bd73-4208-99c0-2c0da0e868b4",
   "metadata": {},
   "outputs": [
    {
     "data": {
      "text/plain": [
       "20"
      ]
     },
     "execution_count": 11,
     "metadata": {},
     "output_type": "execute_result"
    }
   ],
   "source": [
    "len(doc_segs)"
   ]
  },
  {
   "cell_type": "code",
   "execution_count": 109,
   "id": "17004c83-aa95-47e9-a939-05c7f645b019",
   "metadata": {},
   "outputs": [
    {
     "name": "stdout",
     "output_type": "stream",
     "text": [
      "This is a TypeError\n"
     ]
    }
   ],
   "source": [
    "# Custom Error Message\n",
    "ERR1 = \"Segment size must be positive.\"\n",
    "\n",
    "# Custom Exception Class\n",
    "class LexosException(Exception):\n",
    "    \"\"\"Prevent exceptions from stopping the program.\"\"\"\n",
    "    pass\n",
    "\n",
    "# Controller\n",
    "class Controller:\n",
    "    \"\"\"Simple controller initialised with a value.\"\"\"\n",
    "    def __init__(self, value):\n",
    "        self.value = value\n",
    "        \n",
    "    def check_for_error(self):\n",
    "        \"\"\"Check whether the value is valid according the model.\"\"\"\n",
    "        # If no exception is caught, send a success message to the view function\n",
    "        try:\n",
    "            model(self.value)\n",
    "            view(\"Success\")\n",
    "        # If there is an exception, send its error message to the view function\n",
    "        # If the exception was raised by LexosException, it will have the message\n",
    "        # passed to LexosException.\n",
    "        except Exception as e:\n",
    "            view(e)\n",
    "\n",
    "# Model\n",
    "def model(value):\n",
    "    \"\"\"Pass the value to the processor function.\n",
    "    \n",
    "    In a more complicated example, our model might be a class\n",
    "    or return a result for the controller to pass to the view. \n",
    "    \"\"\"\n",
    "    processor(value)\n",
    "\n",
    "# View\n",
    "def view(e):\n",
    "    \"\"\"Display output sent by the controller.\n",
    "    \n",
    "    In a more complicated example, our model might be a class. \n",
    "    \"\"\"\n",
    "    print(e)    \n",
    "\n",
    "# Processor/API Method    \n",
    "def processor(value):\n",
    "    \"\"\"Perform some processing logic.\n",
    "    \n",
    "    In this case, we assert that the value > 0.\n",
    "    If it is not, we get an AssertionError, which\n",
    "    we catch with `Exception`. We then pass our\n",
    "    custom error to the `LexosException` class.\n",
    "    \"\"\"\n",
    "    # try:\n",
    "    #     assert value > 0\n",
    "    # except Exception:\n",
    "    #     raise LexosException(ERR1)\n",
    "    try:\n",
    "        x = 1 + \"string\"\n",
    "    except TypeError:\n",
    "        raise LexosException(\"This is a TypeError\")\n",
    "\n",
    "\n",
    "# Test by Calling the Controller with a Value        \n",
    "c = Controller(-1)\n",
    "c.check_for_error()"
   ]
  },
  {
   "cell_type": "code",
   "execution_count": 8,
   "id": "a1af0ac6-9683-4567-845f-d2b85241ea3e",
   "metadata": {},
   "outputs": [
    {
     "ename": "ValueError",
     "evalue": "Missing string.",
     "output_type": "error",
     "traceback": [
      "\u001b[1;31m---------------------------------------------------------------------------\u001b[0m",
      "\u001b[1;31mValueError\u001b[0m                                Traceback (most recent call last)",
      "Input \u001b[1;32mIn [8]\u001b[0m, in \u001b[0;36m<cell line: 2>\u001b[1;34m()\u001b[0m\n\u001b[0;32m      1\u001b[0m l \u001b[38;5;241m=\u001b[39m []\n\u001b[0;32m      2\u001b[0m \u001b[38;5;28;01mif\u001b[39;00m \u001b[38;5;28mlen\u001b[39m(l) \u001b[38;5;241m==\u001b[39m \u001b[38;5;241m0\u001b[39m:\n\u001b[1;32m----> 3\u001b[0m     \u001b[38;5;28;01mraise\u001b[39;00m \u001b[38;5;167;01mValueError\u001b[39;00m(\u001b[38;5;124m\"\u001b[39m\u001b[38;5;124mMissing string.\u001b[39m\u001b[38;5;124m\"\u001b[39m)\n\u001b[0;32m      4\u001b[0m \u001b[38;5;28;01melse\u001b[39;00m:\n\u001b[0;32m      5\u001b[0m     \u001b[38;5;28;01mfor\u001b[39;00m item \u001b[38;5;129;01min\u001b[39;00m l:\n",
      "\u001b[1;31mValueError\u001b[0m: Missing string."
     ]
    }
   ],
   "source": [
    "l = []\n",
    "if len(l) == 0:\n",
    "    raise ValueError(\"Missing string.\")\n",
    "else:\n",
    "    for item in l:\n",
    "        if not isinstance(item, str):\n",
    "            raise ValueError(\"Missing string.\")"
   ]
  },
  {
   "cell_type": "code",
   "execution_count": 10,
   "id": "341806b8-eb8c-4622-bb03-c02d24042966",
   "metadata": {},
   "outputs": [
    {
     "name": "stdout",
     "output_type": "stream",
     "text": [
      "[['Was', 'this'], ['the', 'face', 'that', 'launched']]\n",
      "[['Was', 'this'], ['the', 'place', 'that', 'paunched']]\n"
     ]
    }
   ],
   "source": [
    "# This works to cut lists on milestones\n",
    "\n",
    "all_texts = [\n",
    "    [\"Was\", \"this\", \"the\", \"face\", \"that\", \"launched\", \"the\", \"thousand\", \"ships\"],\n",
    "    [\"Was\", \"this\", \"the\", \"place\", \"that\", \"paunched\", \"the\", \"thousand\", \"whips\"]\n",
    "]\n",
    "milestone = \"the\"\n",
    "preserve_milestone = True\n",
    "\n",
    "all_segments = []\n",
    "for text in all_texts:\n",
    "    cut_on_milestone = []\n",
    "    seg = []\n",
    "    for token in text:\n",
    "        if token == milestone:\n",
    "            cut_on_milestone.append(seg)\n",
    "            if preserve_milestone:\n",
    "                seg = [milestone]\n",
    "            else:\n",
    "                seg = []\n",
    "        else:\n",
    "            seg.append(token)\n",
    "    all_segments.append(cut_on_milestone)\n",
    "for text in all_segments:\n",
    "    print(text)"
   ]
  },
  {
   "cell_type": "code",
   "execution_count": null,
   "id": "2c1ed3f5-a1ff-4d6a-bc82-02469208f2a8",
   "metadata": {},
   "outputs": [],
   "source": []
  }
 ],
 "metadata": {
  "kernelspec": {
   "display_name": "Lexos",
   "language": "python",
   "name": "lexos"
  },
  "language_info": {
   "codemirror_mode": {
    "name": "ipython",
    "version": 3
   },
   "file_extension": ".py",
   "mimetype": "text/x-python",
   "name": "python",
   "nbconvert_exporter": "python",
   "pygments_lexer": "ipython3",
   "version": "3.9.12"
  }
 },
 "nbformat": 4,
 "nbformat_minor": 5
}
