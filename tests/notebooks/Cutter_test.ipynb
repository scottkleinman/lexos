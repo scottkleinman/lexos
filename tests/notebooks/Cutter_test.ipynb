{
 "cells": [
  {
   "cell_type": "code",
   "execution_count": 1,
   "id": "8b505ad6-2421-4f97-8f1b-78f81293e57f",
   "metadata": {},
   "outputs": [
    {
     "name": "stdout",
     "output_type": "stream",
     "text": [
      "Done!\n"
     ]
    }
   ],
   "source": [
    "from lexos.io.smart import Loader\n",
    "from lexos import tokenizer\n",
    "from lexos.cutter.ginsu import Ginsu\n",
    "from lexos.cutter.machete import Machete\n",
    "machete = Machete()\n",
    "# ginsu = Ginsu()\n",
    "\n",
    "data = \"../test_data/txt/Austen_Pride_sm.txt\"\n",
    "loader = Loader()\n",
    "loader.load(data)\n",
    "text1 = loader.texts[0][:500]\n",
    "# text2 = loader.texts[0][501:1000]\n",
    "# token_list = text.split()\n",
    "# token_list\n",
    "# text\n",
    "# doc = tokenizer.make_doc(text1, model=\"en_core_web_sm\")\n",
    "# doc2 = tokenizer.make_doc(text2)\n",
    "# print(type(doc))\n",
    "# print(f\"{len(doc)} tokens in doc\")\n",
    "print(\"Done!\")"
   ]
  },
  {
   "cell_type": "code",
   "execution_count": 2,
   "id": "855f65f7-98d2-4dea-a56d-9287a18281a4",
   "metadata": {},
   "outputs": [],
   "source": [
    "# input = [text1]\n",
    "# print(input)\n",
    "from lexos.cutter.machete import Machete\n",
    "machete = Machete()\n",
    "input = [' Pride and Prejudice\\nby Jane Austen\\nChapter 1\\nIt is a truth universally acknowledged, that a single man in possession of a good fortune, must be in want of a wife.\\nHowever little known the feelings or views of such a man may be on his first entering a neighbourhood, this truth is so well fixed in the minds of the surrounding families, that he is considered the rightful property of some one or other of their daughters.\\n\"My dear Mr. Bennet,\" said his lady to him one day, \"have you heard that Nethe']"
   ]
  },
  {
   "cell_type": "code",
   "execution_count": 4,
   "id": "5670e03d-e69b-4ce1-991f-fa4f2b9372d8",
   "metadata": {},
   "outputs": [
    {
     "name": "stdout",
     "output_type": "stream",
     "text": [
      "=======================\n",
      "[['Pride', 'and', 'Prejudice', 'by', 'Jane', 'Austen', 'Chapter', '1', 'It', 'is'], ['a', 'truth', 'universally', 'acknowledged,', 'that', 'a', 'single', 'man', 'in', 'possession'], ['of', 'a', 'good', 'fortune,', 'must', 'be', 'in', 'want', 'of', 'a'], ['wife.', 'However', 'little', 'known', 'the', 'feelings', 'or', 'views', 'of', 'such'], ['a', 'man', 'may', 'be', 'on', 'his', 'first', 'entering', 'a', 'neighbourhood,'], ['this', 'truth', 'is', 'so', 'well', 'fixed', 'in', 'the', 'minds', 'of'], ['the', 'surrounding', 'families,', 'that', 'he', 'is', 'considered', 'the', 'rightful', 'property'], ['of', 'some', 'one', 'or', 'other', 'of', 'their', 'daughters.', '\"My', 'dear'], [['Mr.', 'Bennet,\"', 'said', 'his', 'lady', 'to', 'him', 'one', 'day,', '\"have', 'you', 'heard', 'that', 'Nethe']]]\n",
      "==============================\n"
     ]
    }
   ],
   "source": [
    "input = \"\"\n",
    "text = text1.split()\n",
    "# print(text)\n",
    "\n",
    "text_segs = machete.split_list(text, n=10)\n",
    "# text_segs = machete.split(texts=[text1, text2], n=20, overlap=5)\n",
    "# text = \"\"\"\n",
    "#     It is a truth universally acknowledged, that a single man\n",
    "#     in possession of a good fortune, must be in want of a wife.\n",
    "# \"\"\"\n",
    "\n",
    "# text_segs = machete.splitn(texts=text, n=2, as_string=False)\n",
    "# print(input)\n",
    "# print()\n",
    "# text_segs = machete.split_on_milestones(input, milestone=\"s.ngle\", preserve_milestones=False)\n",
    "# print(text_segs)\n",
    "# doc_segs = ginsu.splitn(input, n=3)\n",
    "# doc_segs = ginsu.split(input, n=50)\n",
    "# doc_segs = ginsu.split_on_milestones(doc=doc, milestone={\"pos_\": ([\"NOUN\"], \"in\")})\n",
    "\n",
    "\n",
    "print(\"=======================\")\n",
    "if isinstance(input, list):\n",
    "    for i, text in enumerate(text_segs):\n",
    "        print(f\"text{i+1}\")\n",
    "        for j, seg in enumerate(text):\n",
    "            print(f\"seg{j+1}\")\n",
    "            print(seg)\n",
    "            print()\n",
    "        print()\n",
    "        print()\n",
    "else:\n",
    "    for seg in text_segs:\n",
    "        print(seg)\n",
    "        print(\"==============================\")\n",
    "\n",
    "# if isinstance(input, list):\n",
    "#     for i, doc_item in enumerate(doc_segs):\n",
    "#         print(f\"doc{i+1}\")\n",
    "#         for j, seg in enumerate(doc_item):\n",
    "#             print(f\"seg{j+1}\")\n",
    "#             print(seg)\n",
    "#             print()\n",
    "#         print()\n",
    "#         print()\n",
    "# else:\n",
    "#     for seg in doc_segs:\n",
    "#         print(seg)\n",
    "#         print(\"==============================\") "
   ]
  },
  {
   "cell_type": "code",
   "execution_count": 1,
   "id": "58ab61fe-2b04-45ee-a626-a25986ea711e",
   "metadata": {},
   "outputs": [],
   "source": [
    "from lexos.cutter.milestones import Milestones"
   ]
  },
  {
   "cell_type": "code",
   "execution_count": 2,
   "id": "2c1ed3f5-a1ff-4d6a-bc82-02469208f2a8",
   "metadata": {},
   "outputs": [
    {
     "data": {
      "text/plain": [
       "'It is a truth universally acknowledged, that a single man\\n    in possession of a good fortune, must be in want of a wife.'"
      ]
     },
     "execution_count": 2,
     "metadata": {},
     "output_type": "execute_result"
    }
   ],
   "source": [
    "text = \"\"\"\n",
    "    It is a truth universally acknowledged, that a single man\n",
    "    in possession of a good fortune, must be in want of a wife.\n",
    "\"\"\"\n",
    "jane = text.strip()\n",
    "jane"
   ]
  },
  {
   "cell_type": "code",
   "execution_count": 3,
   "id": "c7ca07f6-96df-44b5-835d-5e601bfbf2ee",
   "metadata": {},
   "outputs": [],
   "source": [
    "from lexos import tokenizer\n",
    "doc = tokenizer.make_doc(jane, model=\"en_core_web_sm\")"
   ]
  },
  {
   "cell_type": "code",
   "execution_count": 6,
   "id": "54c7c0e6-dc85-450f-8493-d169fe0dc7d4",
   "metadata": {},
   "outputs": [
    {
     "data": {
      "text/plain": [
       "It is a truth universally acknowledged, that a single man\n",
       "    in possession of a good fortune, must be in want of a wife."
      ]
     },
     "execution_count": 6,
     "metadata": {},
     "output_type": "execute_result"
    }
   ],
   "source": [
    "Milestones().set(doc, \"a\")\n",
    "# [token.text for token in doc if not token._.is_milestone]"
   ]
  },
  {
   "cell_type": "code",
   "execution_count": 7,
   "id": "f2557640-1b6b-4697-b8bb-75c0f6e91fdf",
   "metadata": {},
   "outputs": [
    {
     "name": "stdout",
     "output_type": "stream",
     "text": [
      "\n"
     ]
    }
   ],
   "source": [
    "from lexos.cutter.ginsu import Ginsu\n",
    "cutter = Ginsu()\n",
    "\n",
    "\n",
    "segments = cutter.split_on_milestones(doc, milestone={\"is_milestone\": True})\n",
    "# print(segments)\n",
    "print()\n",
    "# for token in doc:\n",
    "#     print(token._.is_milestone)\n",
    "# getattr(doc[0], \"._.is_milestone\")\n",
    "# doc[0]._.is_milestone"
   ]
  },
  {
   "cell_type": "code",
   "execution_count": 8,
   "id": "732c3570-620f-4aeb-a6c2-9e645665690e",
   "metadata": {},
   "outputs": [
    {
     "name": "stdout",
     "output_type": "stream",
     "text": [
      "It is \n",
      "\n",
      "a truth universally acknowledged, that \n",
      "\n",
      "a single man\n",
      "    in possession of \n",
      "\n",
      "a good fortune, must be in want of \n",
      "\n",
      "a wife.\n",
      "\n"
     ]
    }
   ],
   "source": [
    "for seg in segments:\n",
    "    print(seg)\n",
    "    print()"
   ]
  },
  {
   "cell_type": "code",
   "execution_count": 25,
   "id": "8d132579-e403-4d4f-89a5-b99e40c07a5c",
   "metadata": {},
   "outputs": [],
   "source": [
    "# from lexos.tokenizer.lexosdoc import LexosDoc\n",
    "# lexosdoc = LexosDoc(doc)\n",
    "# lexosdoc.get_token_attrs()\n",
    "dir(doc[0].get_extension)\n",
    "# doc[0].get_extension(\"_.is_milestone\")\n",
    "doc[0].get_extension(\"is_milestone\")"
   ]
  },
  {
   "cell_type": "code",
   "execution_count": null,
   "id": "6176ae9e-4661-495a-be3a-8f1f66b6464d",
   "metadata": {},
   "outputs": [],
   "source": []
  }
 ],
 "metadata": {
  "kernelspec": {
   "display_name": "Lexos",
   "language": "python",
   "name": "lexos"
  },
  "language_info": {
   "codemirror_mode": {
    "name": "ipython",
    "version": 3
   },
   "file_extension": ".py",
   "mimetype": "text/x-python",
   "name": "python",
   "nbconvert_exporter": "python",
   "pygments_lexer": "ipython3",
   "version": "3.9.12"
  }
 },
 "nbformat": 4,
 "nbformat_minor": 5
}
