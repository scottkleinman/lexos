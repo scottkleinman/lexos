{
 "cells": [
  {
   "cell_type": "code",
   "execution_count": 1,
   "id": "8b505ad6-2421-4f97-8f1b-78f81293e57f",
   "metadata": {},
   "outputs": [],
   "source": [
    "from lexos.io.smart import Loader\n",
    "from lexos import tokenizer\n",
    "from lexos.cutter import Ginsu, Machete\n",
    "ginsu = Ginsu()\n",
    "machete = Machete()\n",
    "\n",
    "data = \"../test_data/txt/Austen_Pride.txt\"\n",
    "loader = Loader()\n",
    "loader.load(data)\n",
    "text = loader.texts[0]\n",
    "doc = tokenizer.make_doc(text)\n",
    "\n",
    "text_segs = machete.splitn(texts=input, n=1000, overlap=5)\n",
    "doc_segs = ginsu.splitn(docs=doc, n=1000, overlap=5)\n",
    "\n",
    "print(text_segs[0:2])\n",
    "print()\n",
    "print(doc_segs[0:2])"
   ]
  },
  {
   "cell_type": "code",
   "execution_count": 2,
   "id": "f9ddfeec-20fb-424e-ab42-429787e6c470",
   "metadata": {},
   "outputs": [],
   "source": [
    "data = \"../test_data/txt/Austen_Pride.txt\"\n",
    "loader = Loader()\n",
    "loader.load(data)\n",
    "text = loader.texts[0]\n",
    "doc = tokenizer.make_doc(text)"
   ]
  },
  {
   "cell_type": "code",
   "execution_count": null,
   "id": "1ae92e38-d174-4902-ae16-0d941b86e3a5",
   "metadata": {},
   "outputs": [],
   "source": [
    "text_segs = machete.splitn(texts=input, n=1000, overlap=5)\n",
    "doc_segs = ginsu.splitn(docs=doc, n=1000, overlap=5)"
   ]
  },
  {
   "cell_type": "code",
   "execution_count": 4,
   "id": "b2ead7a1-9fb4-4f26-bc61-f65d57fd4305",
   "metadata": {},
   "outputs": [],
   "source": [
    "from lexos import tokenizer\n",
    "doc = tokenizer.make_doc(input)"
   ]
  },
  {
   "cell_type": "code",
   "execution_count": 5,
   "id": "21aff435-8183-43ec-b1e6-e975c25115af",
   "metadata": {},
   "outputs": [
    {
     "data": {
      "text/plain": [
       "[ Pride and Prejudice\n",
       " by Jane Austen\n",
       " Chapter 1\n",
       " It is a truth universally acknowledged, that a single man in possession of a good fortune, must be in want of a wife.\n",
       " However little known the feelings or views of such a man may be on his first entering a neighbourhood, this truth is so well fixed in the minds of the surrounding families, that he is considered the rightful property of some one or other of their daughters.\n",
       " \"My dear Mr. Bennet,\" said his lady to him one day, \"have you heard that Netherfield Park is let at last?\"\n",
       " Mr. Bennet replied that he had not.\n",
       " \"But it is,\" returned she; \"for Mrs. Long has just been ,\n",
       " . Long has just been here, and she told me all about it.\"\n",
       " Mr. Bennet made no answer.\n",
       " \"Do you not want to know who has taken it?\" cried his wife impatiently.\n",
       " \"_You_ want to tell me, and I have no objection to hearing it.\"\n",
       " This was invitation enough.\n",
       " \"Why, my dear, you must know, Mrs. Long says that Netherfield is taken by a young man of large fortune from the north of England; that he came down on Monday in a chaise and four to see the place, and was so much delighted with it, that he agreed with Mr. Morris immediately; that he is to take possession before Michaelmas, and some of his ]"
      ]
     },
     "execution_count": 5,
     "metadata": {},
     "output_type": "execute_result"
    }
   ],
   "source": [
    "cutter = Ginsu()\n",
    "segs = cutter.splitn(docs=doc, n=1000, overlap=5)\n",
    "segs[0:2]"
   ]
  },
  {
   "cell_type": "code",
   "execution_count": 8,
   "id": "633766d3-ad2c-47d3-8bd2-5c956bcd1288",
   "metadata": {},
   "outputs": [
    {
     "data": {
      "text/plain": [
       " Pride and Prejudice\n",
       "by Jane Austen\n",
       "Chapter 1\n",
       "It is a truth universally acknowledged, that a single man in possession of a good fortune, must be in want of a wife.\n",
       "However little known the feelings or views of such a man may be on his first entering a neighbourhood, this truth is so well fixed in the minds of the surrounding families, that he is considered the rightful property of some one or other of their daughters.\n",
       "\"My dear Mr. Bennet,\" said his lady to him one day, \"have you heard that Netherfield Park is let at last?\"\n",
       "Mr. Bennet replied that he had not.\n",
       "\"But it is,\" returned she; \"for Mrs. Long has just been "
      ]
     },
     "execution_count": 8,
     "metadata": {},
     "output_type": "execute_result"
    }
   ],
   "source": [
    "segs[0]"
   ]
  },
  {
   "cell_type": "code",
   "execution_count": null,
   "id": "3a41ef27-315e-47b7-bbb1-65fa9e00be37",
   "metadata": {},
   "outputs": [],
   "source": []
  }
 ],
 "metadata": {
  "kernelspec": {
   "display_name": "Lexos",
   "language": "python",
   "name": "lexos"
  },
  "language_info": {
   "codemirror_mode": {
    "name": "ipython",
    "version": 3
   },
   "file_extension": ".py",
   "mimetype": "text/x-python",
   "name": "python",
   "nbconvert_exporter": "python",
   "pygments_lexer": "ipython3",
   "version": "3.9.12"
  }
 },
 "nbformat": 4,
 "nbformat_minor": 5
}
