{
 "cells": [
  {
   "cell_type": "markdown",
   "id": "f5169fa6-7341-47e7-bd77-d1b236c3f48d",
   "metadata": {},
   "source": [
    "# Test Dendrogram\n",
    "\n",
    "This notebook is test to show how a dendrogram would be constructed using three novels."
   ]
  },
  {
   "cell_type": "markdown",
   "id": "9ce9b8b9-c6fc-4c2b-bcda-ba551644d01a",
   "metadata": {},
   "source": [
    "## Add Lexos to the Jupyter `sys.path`\n",
    "\n",
    "We run a small script to do this in the same folder as the notebook."
   ]
  },
  {
   "cell_type": "code",
   "execution_count": null,
   "id": "1f830964-f77a-45a1-a80c-cdb47f41d3c1",
   "metadata": {},
   "outputs": [],
   "source": [
    "%run jupyter_local_setup.py ../../../lexos"
   ]
  },
  {
   "cell_type": "markdown",
   "id": "f1e4c5fa-a30f-4a94-97b8-d90dd4326f52",
   "metadata": {},
   "source": [
    "## Import Lexos Modules"
   ]
  },
  {
   "cell_type": "code",
   "execution_count": 2,
   "id": "0f1b841f-14c5-4174-bdf0-c57c895b5e5c",
   "metadata": {},
   "outputs": [],
   "source": [
    "from lexos.io.smart import Loader\n",
    "from lexos import tokenizer\n",
    "from lexos.dtm import DTM"
   ]
  },
  {
   "cell_type": "markdown",
   "id": "1bf84bd4-fa8c-45c7-960d-31abb12f314c",
   "metadata": {},
   "source": [
    "## Load Data\n",
    "\n",
    "We are taking _Pride and Prejudice_ and _Sense and Sensibility_ from the repository's test data, but we'll also download _Frankenstein_ from Project Gutenberg.\n",
    "\n",
    "For quick run times, we'll take only the first 10000 characters from each novel."
   ]
  },
  {
   "cell_type": "code",
   "execution_count": 7,
   "id": "76e0e735-6e9a-4780-95c2-852c54064a90",
   "metadata": {},
   "outputs": [],
   "source": [
    "data = [\"../test_data/txt/Austen_Pride.txt\", \"../test_data/txt/Austen_Sense.txt\", \"https://www.gutenberg.org/files/84/84-0.txt\"]\n",
    "\n",
    "# Create the loader and load the data\n",
    "loader = Loader()\n",
    "loader.load(data)\n",
    "\n",
    "# Shorten the texts\n",
    "texts = [doc[0:10000] for doc in loader.texts]"
   ]
  },
  {
   "cell_type": "markdown",
   "id": "8a282673-b33a-4be6-9a50-351d6b6431a6",
   "metadata": {},
   "source": [
    "## Make spaCy Docs"
   ]
  },
  {
   "cell_type": "code",
   "execution_count": null,
   "id": "52600b25-7b71-4d11-9131-7b90d1964903",
   "metadata": {},
   "outputs": [],
   "source": [
    "# Make the docs\n",
    "docs = tokenizer.make_docs(texts)"
   ]
  },
  {
   "cell_type": "markdown",
   "id": "8de63bde-8275-41ab-8287-9c021e057d2f",
   "metadata": {},
   "source": [
    "## Make the Document-Term Matrix\n",
    "\n",
    "**Important:** Because of a bug, we cannot currently submit spaCy docs to the `DTM` class. As a result, we will convert them to a list of token lists."
   ]
  },
  {
   "cell_type": "code",
   "execution_count": 8,
   "id": "40794767-87a2-4790-b4b3-b89b3e88fcc0",
   "metadata": {},
   "outputs": [],
   "source": [
    "labels = [\"Pride_and_Prejudice\", \"Sense_and_Sensibility\", \"Frankenstein\"]\n",
    "doc_tokens = [[token.text for token in doc] for doc in docs]\n",
    "dtm = DTM(doc_tokens, labels)"
   ]
  },
  {
   "cell_type": "markdown",
   "id": "93f8e5ff-3a13-4f77-8f0a-6e7672db7259",
   "metadata": {},
   "source": [
    "## Show the DTM Table"
   ]
  },
  {
   "cell_type": "code",
   "execution_count": 9,
   "id": "9f4ca962-9cbc-4d3b-b2c6-a7f845421532",
   "metadata": {},
   "outputs": [
    {
     "data": {
      "text/html": [
       "<div>\n",
       "<style scoped>\n",
       "    .dataframe tbody tr th:only-of-type {\n",
       "        vertical-align: middle;\n",
       "    }\n",
       "\n",
       "    .dataframe tbody tr th {\n",
       "        vertical-align: top;\n",
       "    }\n",
       "\n",
       "    .dataframe thead th {\n",
       "        text-align: right;\n",
       "    }\n",
       "</style>\n",
       "<table border=\"1\" class=\"dataframe\">\n",
       "  <thead>\n",
       "    <tr style=\"text-align: right;\">\n",
       "      <th></th>\n",
       "      <th>terms</th>\n",
       "      <th>Pride_and_Prejudice</th>\n",
       "      <th>Sense_and_Sensibility</th>\n",
       "      <th>Frankenstein</th>\n",
       "    </tr>\n",
       "  </thead>\n",
       "  <tbody>\n",
       "    <tr>\n",
       "      <th>1544</th>\n",
       "      <td>’s</td>\n",
       "      <td>0</td>\n",
       "      <td>0</td>\n",
       "      <td>1</td>\n",
       "    </tr>\n",
       "    <tr>\n",
       "      <th>1543</th>\n",
       "      <td>’</td>\n",
       "      <td>0</td>\n",
       "      <td>0</td>\n",
       "      <td>2</td>\n",
       "    </tr>\n",
       "    <tr>\n",
       "      <th>1542</th>\n",
       "      <td>—</td>\n",
       "      <td>0</td>\n",
       "      <td>0</td>\n",
       "      <td>4</td>\n",
       "    </tr>\n",
       "    <tr>\n",
       "      <th>1541</th>\n",
       "      <td>your</td>\n",
       "      <td>8</td>\n",
       "      <td>0</td>\n",
       "      <td>4</td>\n",
       "    </tr>\n",
       "    <tr>\n",
       "      <th>1540</th>\n",
       "      <td>youngest</td>\n",
       "      <td>2</td>\n",
       "      <td>0</td>\n",
       "      <td>0</td>\n",
       "    </tr>\n",
       "    <tr>\n",
       "      <th>...</th>\n",
       "      <td>...</td>\n",
       "      <td>...</td>\n",
       "      <td>...</td>\n",
       "      <td>...</td>\n",
       "    </tr>\n",
       "    <tr>\n",
       "      <th>4</th>\n",
       "      <td>\\r\\n\\r\\n\\r\\n</td>\n",
       "      <td>0</td>\n",
       "      <td>0</td>\n",
       "      <td>1</td>\n",
       "    </tr>\n",
       "    <tr>\n",
       "      <th>3</th>\n",
       "      <td>\\r\\n\\r\\n\\r\\n\\r\\n\\r\\n</td>\n",
       "      <td>0</td>\n",
       "      <td>0</td>\n",
       "      <td>3</td>\n",
       "    </tr>\n",
       "    <tr>\n",
       "      <th>2</th>\n",
       "      <td>\\r\\n\\r\\n\\r\\n</td>\n",
       "      <td>0</td>\n",
       "      <td>0</td>\n",
       "      <td>3</td>\n",
       "    </tr>\n",
       "    <tr>\n",
       "      <th>1</th>\n",
       "      <td>\\r\\n\\r\\n</td>\n",
       "      <td>0</td>\n",
       "      <td>0</td>\n",
       "      <td>24</td>\n",
       "    </tr>\n",
       "    <tr>\n",
       "      <th>0</th>\n",
       "      <td>\\r\\n</td>\n",
       "      <td>66</td>\n",
       "      <td>153</td>\n",
       "      <td>118</td>\n",
       "    </tr>\n",
       "  </tbody>\n",
       "</table>\n",
       "<p>1545 rows × 4 columns</p>\n",
       "</div>"
      ],
      "text/plain": [
       "                     terms  Pride_and_Prejudice  Sense_and_Sensibility  \\\n",
       "1544                    ’s                    0                      0   \n",
       "1543                     ’                    0                      0   \n",
       "1542                     —                    0                      0   \n",
       "1541                  your                    8                      0   \n",
       "1540              youngest                    2                      0   \n",
       "...                    ...                  ...                    ...   \n",
       "4            \\r\\n\\r\\n\\r\\n                     0                      0   \n",
       "3     \\r\\n\\r\\n\\r\\n\\r\\n\\r\\n                    0                      0   \n",
       "2             \\r\\n\\r\\n\\r\\n                    0                      0   \n",
       "1                 \\r\\n\\r\\n                    0                      0   \n",
       "0                     \\r\\n                   66                    153   \n",
       "\n",
       "      Frankenstein  \n",
       "1544             1  \n",
       "1543             2  \n",
       "1542             4  \n",
       "1541             4  \n",
       "1540             0  \n",
       "...            ...  \n",
       "4                1  \n",
       "3                3  \n",
       "2                3  \n",
       "1               24  \n",
       "0              118  \n",
       "\n",
       "[1545 rows x 4 columns]"
      ]
     },
     "execution_count": 9,
     "metadata": {},
     "output_type": "execute_result"
    }
   ],
   "source": [
    "df = dtm.get_table()\n",
    "df.head()"
   ]
  },
  {
   "cell_type": "markdown",
   "id": "39cc8ca7-2bb6-47d8-8688-9cff56fa431a",
   "metadata": {},
   "source": [
    "## Make a Dendrogram"
   ]
  },
  {
   "cell_type": "code",
   "execution_count": 10,
   "id": "b4aa9620-3b2b-42b1-be8d-a96436cce866",
   "metadata": {},
   "outputs": [
    {
     "data": {
      "image/png": "[encoded data removed]",
      "text/plain": [
       "<Figure size 720x720 with 1 Axes>"
      ]
     },
     "metadata": {
      "needs_background": "light"
     },
     "output_type": "display_data"
    }
   ],
   "source": [
    "from lexos.cluster.dendrogram import Dendrogram\n",
    "dendrogram = Dendrogram(dtm, show=True)"
   ]
  },
  {
   "cell_type": "code",
   "execution_count": null,
   "id": "0e4dd410-137a-48aa-94da-4056a2e99088",
   "metadata": {},
   "outputs": [],
   "source": []
  }
 ],
 "metadata": {
  "kernelspec": {
   "display_name": "Python 3 (ipykernel)",
   "language": "python",
   "name": "python3"
  },
  "language_info": {
   "codemirror_mode": {
    "name": "ipython",
    "version": 3
   },
   "file_extension": ".py",
   "mimetype": "text/x-python",
   "name": "python",
   "nbconvert_exporter": "python",
   "pygments_lexer": "ipython3",
   "version": "3.9.12"
  }
 },
 "nbformat": 4,
 "nbformat_minor": 5
}
