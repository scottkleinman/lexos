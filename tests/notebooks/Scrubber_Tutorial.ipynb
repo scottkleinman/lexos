{
 "cells": [
  {
   "cell_type": "markdown",
   "metadata": {},
   "source": [
    "# `Scrubber` Tutorial\n",
    "   \n",
    "`Scrubber` is a \"preprocessing\" module which can help you clean up your data to make it suitable for further analysis. It is important to remember that `Scrubber` operates using patterns and has no awareness of the language of the text other than the implicit knowledge you bring when you decide how to use it. As a result, `Scrubber` may not always have the desired results. Make sure you inspect the output before using it for your analysis.\n",
    "\n",
    "Scrubber can be defined as a \"destructive preprocessor\". In other words, it changes the text in ways that potentially make mapping the results onto the original text potentially impossible. It is therefore best used before other procedures so that the scrubbed text is essentially treated as the \"original\" text."
   ]
  },
  {
   "cell_type": "markdown",
   "metadata": {},
   "source": [
    "## Load Some Data\n",
    "\n",
    "We'll start by loading some data using the `Loader` module."
   ]
  },
  {
   "cell_type": "code",
   "execution_count": null,
   "metadata": {},
   "outputs": [],
   "source": [
    "from lexos.io.smart import Loader\n",
    "\n",
    "loader = Loader()\n",
    "loader.load(\"../test_data/txt/Austen_Pride.txt\")"
   ]
  },
  {
   "cell_type": "markdown",
   "metadata": {},
   "source": [
    "## Import `Scrubber` Functions\n",
    "\n",
    "The `Scrubber` module has a lot of functions that don't all have to be loaded. However, for convenience, we are going to load everything we need for this tutorial at once. Here are some brief explanations.\n",
    "\n",
    "`Scrubber` consists of a \"registry\" of component functions. Each function does something different. Components must be loaded before they can be used, and this is the purpose of the `load_component()` and `load_components()` functions.\n",
    "\n",
    "`Scrubber` also has \"pipeline\" functions that allow you to combine components in any order you want, and pass the text through each component in turn. Remember that the effects of `Scrubber` are destructive, so the order in which components are combined can often make a difference in the output. The `make_pipeline()` and `pipe()` functions are used to set up the pipeline."
   ]
  },
  {
   "cell_type": "code",
   "execution_count": null,
   "metadata": {},
   "outputs": [],
   "source": [
    "from lexos.scrubber.registry import scrubber_components, load_component, load_components\n",
    "from lexos.scrubber.pipeline import make_pipeline, pipe"
   ]
  },
  {
   "cell_type": "markdown",
   "metadata": {},
   "source": [
    "## Loading Components\n",
    "\n",
    "When components are loaded, they should be assigned to a variable that describes what they do (normally, but not always the same as the component's name).\n",
    " \n",
    "Components can be loaded using pure Python, but Lexos also has the `load_component()` helper function, which may be easier to remember. Either of the commands below will work."
   ]
  },
  {
   "cell_type": "code",
   "execution_count": null,
   "metadata": {},
   "outputs": [],
   "source": [
    "# Python code to load a component from the registry\n",
    "lower_case = scrubber_components.get(\"lower_case\")\n",
    "\n",
    "# Lexos helper function to load a single component\n",
    "whitespace = load_component(\"whitespace\")"
   ]
  },
  {
   "cell_type": "markdown",
   "metadata": {},
   "source": [
    "You can also load multiple components at once by putting them in a tuple and using the `load_components()` function:"
   ]
  },
  {
   "cell_type": "code",
   "execution_count": null,
   "metadata": {},
   "outputs": [],
   "source": [
    "# Load multiple components at once\n",
    "punctuation, remove_digits = load_components(\n",
    "    (\"punctuation\", \"digits\")\n",
    ")"
   ]
  },
  {
   "cell_type": "markdown",
   "metadata": {},
   "source": [
    "## Applying Individual Components\n",
    "\n",
    "Components can be used individually like normal functions. If you have successfully run the cells above, you should have loaded the following components: \"lower_case\", \"whitespace\", \"punctuation\", and \"digits\". We are going to apply these in order, converting to lowercase, converting extra whitespace characters to spaces (and stripping final ones), removing punction, and removing digits (but only the digit \"9\")."
   ]
  },
  {
   "cell_type": "code",
   "execution_count": null,
   "metadata": {},
   "outputs": [],
   "source": [
    "original_text = (\"There  are  39 characters in this  sentence. \")\n",
    "print(f\"Original text length: {len(original_text)}\")\n",
    "\n",
    "scrubbed_text = lower_case(original_text)\n",
    "print (f\"- {scrubbed_text}\")\n",
    "\n",
    "scrubbed_text = whitespace(scrubbed_text)\n",
    "print(f\"- {scrubbed_text}\")\n",
    "\n",
    "scrubbed_text = punctuation(scrubbed_text)\n",
    "print(f\"- {scrubbed_text}\")\n",
    "\n",
    "scrubbed_text = remove_digits(scrubbed_text, only=\"9\")\n",
    "print(f\"- {scrubbed_text}\")\n",
    "\n",
    "print(f\"Scrubbed text length: {len(scrubbed_text)}\")"
   ]
  },
  {
   "cell_type": "markdown",
   "metadata": {},
   "source": [
    "## Pipelines\n",
    "\n",
    "We can combine our components into a single function called `scrub` by putting them in a pipeline to apply multiple components to a text in a specific order. Notice that we are just passing the names of the components into the `make_pipeline()` function. The only complexity is the `remove_digits` component which takes a keyword argument `only`. In order to use the keyword, we need to pass it, along with the name of the component through the `pipe()` function."
   ]
  },
  {
   "cell_type": "code",
   "execution_count": null,
   "metadata": {},
   "outputs": [],
   "source": [
    "scrub = make_pipeline(\n",
    "    lower_case,\n",
    "    whitespace,\n",
    "    punctuation,\n",
    "    pipe(remove_digits, only=[\"9\"])\n",
    ")\n",
    "print(f\"Original text length: {len(original_text)}\")\n",
    "scrubbed_text = scrub(original_text)\n",
    "print(f\"- {scrubbed_text}\")\n",
    "print(f\"Scrubbed text length: {len(scrubbed_text)}\")"
   ]
  },
  {
   "cell_type": "markdown",
   "metadata": {},
   "source": [
    "## Choosing Components\n",
    "\n",
    "`Scrubber` has _a lot_ of components that allow you to do some pretty powerful work. They fall into three categories:\n",
    "\n",
    "<ol>\n",
    "<li><a href=\"https://scottkleinman.github.io/lexos/api/scrubber/normalize/\" target=\"_blank\">Normalize</a> components are used to manipulate text into a standardized form.</li>\n",
    "<li><a href=\"https://scottkleinman.github.io/lexos/api/scrubber/remove/\" target=\"_blank\">Remove</a> components are used to remove strings and patterns from text.</li>\n",
    "<li><a href=\"https://scottkleinman.github.io/lexos/api/scrubber/replace/\" target=\"_blank\">Replace</a> components are used to replace strings and patterns in text.</li>\n",
    "</ol>\n",
    "\n",
    "Just click the links to read more about each category."
   ]
  },
  {
   "cell_type": "markdown",
   "metadata": {},
   "source": [
    "## Making Custom Components\n",
    "\n",
    "If `Scrubber` does not have a component you find useful, you can write your own. Custom components are written just like a standard function but must be registered (added `Scrubber`'s component registry) before they are loaded. The example below is a custom component that applies Python's `title()` function to capitalise the first letter of every word.\n",
    "\n",
    "If you are not familiar with the format `title_case(text: str) -> str`, the `: str` and `--> str` code is called \"type hinting\". It tells us that the input text must be a string data type and that the output text will also be a string. This is not strictly necessary (in Python), but it is good coding practice, so we include it here."
   ]
  },
  {
   "cell_type": "code",
   "execution_count": null,
   "metadata": {},
   "outputs": [],
   "source": [
    "# Define the custom function\n",
    "def title_case(text: str) -> str:\n",
    "    \"\"\"Our custom function to convert text to title case.\"\"\"\n",
    "    return text.title()\n",
    "\n",
    "# Register the custom function, giving it the name \"title_case\" and assign it our custom function\n",
    "scrubber_components.register(\"title_case\", func=title_case)\n",
    "\n",
    "# Load our custom component from the registry\n",
    "title = load_component(\"title_case\")\n",
    "\n",
    "# Scrub our tetxt with our custom function\n",
    "scrubbed_text = title(original_text)\n",
    "print (scrubbed_text)"
   ]
  },
  {
   "cell_type": "markdown",
   "metadata": {},
   "source": [
    "## Practice\n",
    "\n",
    "Remember at the very beginning of this notebook we loaded some data (Jane Austen's _Pride and Prejudice_). If you haven't restarted the kernel, it should still be there in `loader.texts`. Use the cell below to test out some scrubbing components of your choice."
   ]
  },
  {
   "cell_type": "markdown",
   "metadata": {},
   "source": [
    "# Let's just reference the text with the `text` variable\n",
    "text = loader.texts[0]\n",
    "\n",
    "# Practise your scrubbing below\n"
   ]
  }
 ],
 "metadata": {
  "kernelspec": {
   "display_name": "Lexos",
   "language": "python",
   "name": "lexos"
  },
  "language_info": {
   "codemirror_mode": {
    "name": "ipython",
    "version": 3
   },
   "file_extension": ".py",
   "mimetype": "text/x-python",
   "name": "python",
   "nbconvert_exporter": "python",
   "pygments_lexer": "ipython3",
   "version": "3.9.12"
  },
  "orig_nbformat": 4,
  "vscode": {
   "interpreter": {
    "hash": "c1a182fbbe39991ab3c9f482a16703f4da6dfd24ce0191d5b4794b62c97dd21c"
   }
  }
 },
 "nbformat": 4,
 "nbformat_minor": 2
}
