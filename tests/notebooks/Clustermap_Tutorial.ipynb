{
 "cells": [
  {
   "cell_type": "markdown",
   "metadata": {},
   "source": [
    "# `Clustermap` Tutorial\n",
    "   \n",
    "This notebook is to show examples of how to produce clustermap visualisations of a document-term matrix. It starts out with a condensed version of the tutorial for the `dtm` module."
   ]
  },
  {
   "cell_type": "markdown",
   "metadata": {},
   "source": [
    "## Load Data and Construct a DTM\n",
    "\n",
    "For this tutorial, we will load Jane Austen's _Pride and Prejudice_, tokenise it, and then cut it into ten segments, which we'll treat as ten separate documents."
   ]
  },
  {
   "cell_type": "code",
   "execution_count": null,
   "metadata": {},
   "outputs": [],
   "source": [
    "# Python imports\n",
    "import re\n",
    "from lexos.io.smart import Loader\n",
    "from lexos import tokenizer\n",
    "from lexos.cutter.ginsu import Ginsu\n",
    "from lexos.dtm import DTM\n",
    "\n",
    "# Load the data\n",
    "loader = Loader()\n",
    "loader.load(\"../test_data/txt/Austen_Pride.txt\")\n",
    "text = re.sub(\"[\\r\\n|\\n]\", \" \", loader.texts[0]).strip()\n",
    "\n",
    "# Make a doc\n",
    "doc = tokenizer.make_doc(text)\n",
    "\n",
    "# Cut the god into 10 segments\n",
    "cutter = Ginsu()\n",
    "docs = cutter.splitn(doc, n=10)\n",
    "\n",
    "# Build a DTM with labels\n",
    "labels=[\"Pride1\", \"Pride2\", \"Pride3\", \"Pride4\", \"Pride5\", \"Pride6\", \"Pride7\", \"Pride8\", \"Pride9\", \"Pride10\"]\n",
    "dtm = DTM(docs, labels=labels)"
   ]
  },
  {
   "cell_type": "markdown",
   "metadata": {},
   "source": [
    "## Create a Clustermap with Seaborn\n",
    "\n",
    "A clustermap is a dendrogram attached to a heatmap, showing the relative similarity of documents using a colour scale. Lexos can generate static clustermap images using the Python <a href=\"https://seaborn.pydata.org/generated/seaborn.clustermap.html\" target=\"_blank\">Seaborn</a> library."
   ]
  },
  {
   "cell_type": "code",
   "execution_count": null,
   "metadata": {},
   "outputs": [],
   "source": [
    "from lexos.visualization.seaborn.cluster.clustermap import ClusterMap\n",
    "\n",
    "cluster_map = ClusterMap(dtm, title=\"My Clustermap\", show=True)\n"
   ]
  },
  {
   "cell_type": "markdown",
   "metadata": {},
   "source": [
    "The title, distance metric, and linkage method, of the dendrogram can be set in the same way by passing `title`, `metric`, and `method` parameters when instantiating the class or by setting them afterwards and calling `ClusterMap.build()`. For further information on distance metrics and linkage methods, see the Dendrogram Tutorial. \n",
    "\n",
    "The clustermap plot is not shown by default. To display the plot, generate it with `show=True` or reference it with `ClusterMap.fig`. If you change any of the options, you must then rebuild the dendrogram by calling `ClusterMap.build()`.\n",
    "\n",
    "There is also a `savefig()` method which takes a filename or filepath to save the file. The image format is detected automatically from the extension type."
   ]
  },
  {
   "cell_type": "markdown",
   "metadata": {},
   "source": [
    "## Create a Clustermap with Plotly\n",
    "\n",
    "Plotly clustermaps are somewhat experimental and may not render plots that are as informative as Seaborn clustermaps. One advantage they have is that, instead of providing labels for each document at the bottom of the graph, they provide the document labels on the x and y axes, as well as the z (distance) score in the hovertext. This allows you to mouse over individual sections of the heatmap to see which documents are represented by that particular section.\n",
    "\n",
    "Once the clustermap object has been instantiated, it can be displayed with the `Clustermap.showfig()` method. However, this is currently generating an error in some installations of Jupyter notebooks and in VS Code notebooks. If you call `Clustermap.fig` instead, you will still get the error, but you will see the clustermap displayed beneath it.\n",
    "\n",
    "The alternative method is to save the figure to an html file and then open the html file in a browser. The cell below does just that by telling Lexos that the `output_type` should be a file and that the file should be called `clustermap.html`. You can change the filename or location by modifying the `filename` variable. The easiest method (although it produces a large file) is to have Lexos include the Plotly JavaScript, so `include_plotlyjs` is set to True. Methods of reducing the file size are outside the scope of this tutorial. The `auto_open` parameter tells Lexos to automatically open a new browser tab and display the clustermap."
   ]
  },
  {
   "cell_type": "code",
   "execution_count": null,
   "metadata": {},
   "outputs": [],
   "source": [
    "from lexos.visualization.plotly.cluster.clustermap import PlotlyClustermap\n",
    "\n",
    "# Generate the clustermap\n",
    "cluster_map = PlotlyClustermap(dtm)\n",
    "\n",
    "# cluster_map.showfig()\n",
    "# cluster_map.fig\n",
    "\n",
    "filename = \"clustermap.html\"\n",
    "\n",
    "cluster_map.to_html(output_type=\"file\", filename=filename, include_plotlyjs=True, auto_open=True)"
   ]
  }
 ],
 "metadata": {
  "kernelspec": {
   "display_name": "Lexos",
   "language": "python",
   "name": "lexos"
  },
  "language_info": {
   "codemirror_mode": {
    "name": "ipython",
    "version": 3
   },
   "file_extension": ".py",
   "mimetype": "text/x-python",
   "name": "python",
   "nbconvert_exporter": "python",
   "pygments_lexer": "ipython3",
   "version": "3.9.12"
  },
  "orig_nbformat": 4,
  "vscode": {
   "interpreter": {
    "hash": "56f46bfb85c7d6a85117088ea6881e9bb86c4f797d8e3498a2ca691c9949e87d"
   }
  }
 },
 "nbformat": 4,
 "nbformat_minor": 2
}
