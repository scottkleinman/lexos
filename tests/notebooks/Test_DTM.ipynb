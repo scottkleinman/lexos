{
 "cells": [
  {
   "cell_type": "markdown",
   "metadata": {},
   "source": [
    "# Test DTM\n",
    "   \n",
    "This notebook is to show examples of how to use the `dtm` module."
   ]
  },
  {
   "cell_type": "markdown",
   "metadata": {},
   "source": [
    "## Add Lexos to the Jupyter `sys.path`"
   ]
  },
  {
   "cell_type": "code",
   "execution_count": 1,
   "metadata": {},
   "outputs": [
    {
     "name": "stdout",
     "output_type": "stream",
     "text": [
      "System path set to `../../../lexos`.\n"
     ]
    }
   ],
   "source": [
    "%run jupyter_local_setup.py ../../../lexos"
   ]
  },
  {
   "cell_type": "markdown",
   "metadata": {},
   "source": [
    "## Import Lexos Modules"
   ]
  },
  {
   "cell_type": "code",
   "execution_count": 2,
   "metadata": {},
   "outputs": [],
   "source": [
    "from lexos.io.smart import Loader\n",
    "from lexos import tokenizer\n",
    "from lexos.cutter.ginsu import Ginsu"
   ]
  },
  {
   "cell_type": "markdown",
   "metadata": {},
   "source": [
    "## Load data"
   ]
  },
  {
   "cell_type": "code",
   "execution_count": 21,
   "metadata": {},
   "outputs": [],
   "source": [
    "data = \"../test_data/txt/Austen_Pride.txt\"\n",
    "loader = Loader()\n",
    "loader.load(data)\n",
    "doc = tokenizer.make_doc(loader.texts[0])"
   ]
  },
  {
   "cell_type": "markdown",
   "metadata": {},
   "source": [
    "## Cut into Ten Segments"
   ]
  },
  {
   "cell_type": "code",
   "execution_count": 61,
   "metadata": {},
   "outputs": [],
   "source": [
    "cutter = Ginsu()\n",
    "pride_segments = cutter.splitn(doc, n=10)"
   ]
  },
  {
   "cell_type": "markdown",
   "metadata": {},
   "source": [
    "## Initialise the `DTM` Class\n",
    "\n",
    "**Arguments:**\n",
    "\n",
    "- `docs`: A list of spaCy docs or a list of token lists.\n",
    "- `labels`: A list of string labels for the documents. If not provided, the labels \"doc1\", \"doc2\", etc. will be used.\n",
    "\n",
    "The `DTM` class uses the Textacy `Vectorizer` to build a matrix of vectors. The default settings are as follows:\n",
    "\n",
    "- `tf_type`: (default = \"linear\")\n",
    "- `idf_type`: (default = None)\n",
    "- `dl_type`: (default = None)\n",
    "- `norm`: (default = None)\n",
    "- `min_df`: (default = 1)\n",
    "- `max_df`: (default = 1.0)\n",
    "- `max_n_terms`: (default = None)\n",
    "- `vocabulary_terms`: (default = None)\n",
    "\n",
    "For explanations of the various parameters, see the <a href=\"https://textacy.readthedocs.io/en/latest/api_reference/representations.html#vectorizers\" target=\"_blank\">Vectorizers</a> in the Textacy documentation."
   ]
  },
  {
   "cell_type": "code",
   "execution_count": null,
   "metadata": {},
   "outputs": [],
   "source": [
    "from lexos.dtm import DTM\n",
    "\n",
    "dtm = DTM(pride_segments)"
   ]
  },
  {
   "cell_type": "markdown",
   "metadata": {},
   "source": [
    "### `DTM.set_vectorizer()`\n",
    "\n",
    "Any of the vectorizer settings above can be changed with the `DTM.set_vectorizer()` method. However, it is important to rebuild the matrix after any change using `DTM.build()`.\n",
    "\n",
    "Note: It has not yet been tested whether this works for changing labels."
   ]
  },
  {
   "cell_type": "code",
   "execution_count": null,
   "metadata": {},
   "outputs": [],
   "source": [
    "dtm.set_vectorizer(tf_type=\"tfidf\", max_n_terms=100)\n",
    "dtm.build()"
   ]
  },
  {
   "cell_type": "markdown",
   "metadata": {},
   "source": [
    "### `DTM.get_table()`\n",
    "\n",
    "Once you have a DTM, you can document-term matrix access it conveniently as a pandas dataframe. This displays a table of raw token counts.\n",
    "\n",
    "\n",
    "**Arguments:**\n",
    "\n",
    "- `transpose`: If `True`, terms are columns and docs are rows (default=False)."
   ]
  },
  {
   "cell_type": "code",
   "execution_count": null,
   "metadata": {},
   "outputs": [],
   "source": [
    "df = dtm.get_table()\n",
    "df.head()"
   ]
  },
  {
   "cell_type": "markdown",
   "metadata": {},
   "source": [
    "### `DTM.get_frequency_table()`\n",
    "\n",
    "If you wish to show relative frequencies, use `DTM.get_frequency_table()`.\n",
    "\n",
    "\n",
    "**Arguments:**\n",
    "\n",
    "- `rounding`: The number of digits to round floats (default = 3).\n",
    "- `as_percent`: Whether to format the frequencies as percentages (default = False)."
   ]
  },
  {
   "cell_type": "code",
   "execution_count": null,
   "metadata": {},
   "outputs": [],
   "source": [
    "df = dtm.get_frequency_table()\n",
    "df.head()"
   ]
  },
  {
   "cell_type": "markdown",
   "metadata": {},
   "source": [
    "### `DTM.get_stats_table()`\n",
    "\n",
    "Gets a table with the sum, mean, and/or median calculated for each row.\n",
    "\n",
    "**Arguments:**\n",
    "\n",
    "- `stats`: One or more of \"sum\", \"mean\", and/or \"median\"  (default = \"sum\").\n",
    "- `rounding`: The number of digits to round floats (default = 3)."
   ]
  },
  {
   "cell_type": "code",
   "execution_count": null,
   "metadata": {},
   "outputs": [],
   "source": [
    "df = dtm.get_stats_table(\"sum\")\n",
    "df.head()"
   ]
  },
  {
   "cell_type": "markdown",
   "metadata": {},
   "source": [
    "### `DTM.get_terms()`\n",
    "\n",
    "Gets an alphabetical list of terms in the DTM."
   ]
  },
  {
   "cell_type": "code",
   "execution_count": 60,
   "metadata": {},
   "outputs": [],
   "source": [
    "dtm.get_terms()"
   ]
  },
  {
   "cell_type": "markdown",
   "metadata": {},
   "source": [
    "### `DTM.get_term_counts()`\n",
    "\n",
    "Gets an alphabetical list of terms in the DTM.\n",
    "\n",
    "**Arguments:**\n",
    "\n",
    "- `sort_by`: The column(s) to sort by in order of preference. Default = `[\"terms\", \"sum\"]`\n",
    "- `ascending`: Whether to sort values in ascending or descending order (default = True).\n",
    "- `alg`: The algorithm used for sorting.\n",
    "\n",
    "The default sorting algorithm is whatever locale the user's operating system is set to, but it can be changed by setting `alg` to one of the locales used by the Python `natsort` package. A list of locales can be found in the <a href=\"https://natsort.readthedocs.io/en/stable/api.html#natsort.ns\" target=\"_blank>natsort documentation</a>.\n"
   ]
  },
  {
   "cell_type": "code",
   "execution_count": null,
   "metadata": {},
   "outputs": [],
   "source": [
    "dtm.get_terms_counts()"
   ]
  },
  {
   "cell_type": "markdown",
   "metadata": {},
   "source": [
    "### `DTM.least_frequent()`\n",
    "\n",
    "Gets list of the least frequent terms in the DTM.\n",
    "\n",
    "**Arguments:**\n",
    "\n",
    "- `max_n_terms`: The number of terms to return (default = 100).\n",
    "- `start`: The start index in the DTM table (default = -1).\n",
    "\n",
    "\n",
    "**Important:** This function should not be used if `min_df` or `max_df` is set in the vectorizer because the table will be cut twice.\n"
   ]
  },
  {
   "cell_type": "code",
   "execution_count": null,
   "metadata": {},
   "outputs": [],
   "source": [
    "dtm.least_frequent(max_n_terms=20)"
   ]
  },
  {
   "cell_type": "markdown",
   "metadata": {},
   "source": [
    "### `DTM.most_frequent()`\n",
    "\n",
    "Gets list of the most frequent terms in the DTM.\n",
    "\n",
    "**Arguments:**\n",
    "\n",
    "- `max_n_terms`: The number of terms to return (default = 100).\n",
    "- `start`: The start index in the DTM table (default = 0).\n",
    "\n",
    "\n",
    "**Important:** This function should not be used if `min_df` or `max_df` is set in the vectorizer because the table will be cut twice.\n"
   ]
  },
  {
   "cell_type": "code",
   "execution_count": null,
   "metadata": {},
   "outputs": [],
   "source": [
    "dtm.most_frequent(max_n_terms=20)"
   ]
  }
 ],
 "metadata": {
  "kernelspec": {
   "display_name": "Python 3.9.12 ('base')",
   "language": "python",
   "name": "python3"
  },
  "language_info": {
   "codemirror_mode": {
    "name": "ipython",
    "version": 3
   },
   "file_extension": ".py",
   "mimetype": "text/x-python",
   "name": "python",
   "nbconvert_exporter": "python",
   "pygments_lexer": "ipython3",
   "version": "3.9.12"
  },
  "orig_nbformat": 4,
  "vscode": {
   "interpreter": {
    "hash": "ff93cd05c7a11458fc6e692c465602a12d07b4d86c038fa25d5e533c12dcd222"
   }
  }
 },
 "nbformat": 4,
 "nbformat_minor": 2
}
