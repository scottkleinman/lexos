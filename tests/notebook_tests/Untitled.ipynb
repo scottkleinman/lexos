{
 "cells": [
  {
   "cell_type": "code",
   "execution_count": 2,
   "id": "bee5d8d0-8dee-4587-b484-7b1d479c1802",
   "metadata": {},
   "outputs": [
    {
     "name": "stdout",
     "output_type": "stream",
     "text": [
      "System path set to `lexos`.\n"
     ]
    }
   ],
   "source": [
    "%run jupyter_local_setup.py lexos"
   ]
  },
  {
   "cell_type": "code",
   "execution_count": null,
   "id": "db0df431-bfa0-41db-a81f-4049a26c1151",
   "metadata": {},
   "outputs": [],
   "source": []
  }
 ],
 "metadata": {
  "kernelspec": {
   "display_name": "Python 3 (ipykernel)",
   "language": "python",
   "name": "python3"
  },
  "language_info": {
   "codemirror_mode": {
    "name": "ipython",
    "version": 3
   },
   "file_extension": ".py",
   "mimetype": "text/x-python",
   "name": "python",
   "nbconvert_exporter": "python",
   "pygments_lexer": "ipython3",
   "version": "3.9.12"
  }
 },
 "nbformat": 4,
 "nbformat_minor": 5
}
