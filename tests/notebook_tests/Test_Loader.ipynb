{
 "cells": [
  {
   "cell_type": "markdown",
   "metadata": {},
   "source": [
    "# Test Loader\n",
    "   \n",
    "This notebook is to show examples of how to use the `loader`"
   ]
  },
  {
   "cell_type": "markdown",
   "metadata": {},
   "source": [
    "## Add Lexos to the Jupyter `sys.path`"
   ]
  },
  {
   "cell_type": "code",
   "execution_count": 1,
   "metadata": {},
   "outputs": [
    {
     "name": "stdout",
     "output_type": "stream",
     "text": [
      "System path set to `../../../lexos`.\n"
     ]
    }
   ],
   "source": [
    "%run jupyter_local_setup.py ../../../lexos"
   ]
  },
  {
   "cell_type": "markdown",
   "metadata": {},
   "source": [
    "## Import Lexos Modules"
   ]
  },
  {
   "cell_type": "code",
   "execution_count": 2,
   "metadata": {},
   "outputs": [],
   "source": [
    "from lexos.io.smart import Loader"
   ]
  },
  {
   "cell_type": "markdown",
   "metadata": {},
   "source": [
    "## Load Individual Local Files"
   ]
  },
  {
   "cell_type": "code",
   "execution_count": null,
   "metadata": {},
   "outputs": [],
   "source": [
    "data = \"../test_data/txt/Austen_Pride.txt\"\n",
    "loader = Loader()\n",
    "loader.load(data)\n",
    "\n",
    "#loaded data is accessed using .texts[]\n",
    "print (loader.texts[0][:1000])"
   ]
  },
  {
   "cell_type": "markdown",
   "metadata": {},
   "source": [
    "## Load Lists of Local Files"
   ]
  },
  {
   "cell_type": "code",
   "execution_count": null,
   "metadata": {},
   "outputs": [],
   "source": [
    "data = [\"../test_data/txt/Austen_Pride.txt\",\n",
    "        \"../test_data/docx/Austen_Sense_sm.docx\",\n",
    "        \"../test_data/pdf/Austen_Pride_sm.pdf\"]\n",
    "\n",
    "#Loader can handle .txt, .docx, and .pdf file extensions\n",
    "\n",
    "loader = Loader()\n",
    "loader.load(data)\n",
    "\n",
    "text = loader.texts[0]\n",
    "print(text[0:100])\n",
    "\n",
    "text = loader.texts[1]\n",
    "print(text[0:100])\n",
    "\n",
    "text = loader.texts[2]\n",
    "print(text[0:100])"
   ]
  },
  {
   "cell_type": "markdown",
   "metadata": {},
   "source": [
    "## Load Local Directories or Zip Files   \n",
    "\n",
    "Directories or zip files containing files of .txt, .docx, and .pdf extenstions can be loaded."
   ]
  },
  {
   "cell_type": "code",
   "execution_count": null,
   "metadata": {},
   "outputs": [],
   "source": [
    "data = \"../test_data/docx\"\n",
    "\n",
    "loader = Loader()\n",
    "loader.load(data)\n",
    "\n",
    "data = \"../test_data/zip/txt.zip\"\n",
    "loader.load(data)\n",
    "\n",
    "text = loader.texts[0]\n",
    "print(text[0:100])\n",
    "\n",
    "text = loader.texts[1]\n",
    "print(text[0:100])\n",
    "\n",
    "text = loader.texts[2]\n",
    "print(text[0:100])\n",
    "\n",
    "text = loader.texts[3]\n",
    "print(text[0:100])\n",
    "\n",
    "text = loader.texts[4]\n",
    "print(text[0:100])\n",
    "\n",
    "text = loader.texts[5]\n",
    "print(text[0:100])"
   ]
  },
  {
   "cell_type": "markdown",
   "metadata": {},
   "source": [
    "## Load Texts from URL"
   ]
  },
  {
   "cell_type": "code",
   "execution_count": null,
   "metadata": {},
   "outputs": [],
   "source": [
    "data = \"https://www.gutenberg.org/files/84/84-0.txt\"\n",
    "loader = Loader()\n",
    "loader.load(data)\n",
    "\n",
    "print (loader.texts[0][:1000])"
   ]
  }
 ],
 "metadata": {
  "kernelspec": {
   "display_name": "Python 3 (ipykernel)",
   "language": "python",
   "name": "python3"
  },
  "language_info": {
   "codemirror_mode": {
    "name": "ipython",
    "version": 3
   },
   "file_extension": ".py",
   "mimetype": "text/x-python",
   "name": "python",
   "nbconvert_exporter": "python",
   "pygments_lexer": "ipython3",
   "version": "3.9.12"
  },
  "vscode": {
   "interpreter": {
    "hash": "c1a182fbbe39991ab3c9f482a16703f4da6dfd24ce0191d5b4794b62c97dd21c"
   }
  }
 },
 "nbformat": 4,
 "nbformat_minor": 4
}
